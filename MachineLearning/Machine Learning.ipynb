{
 "cells": [
  {
   "cell_type": "code",
   "execution_count": 15,
   "id": "initial_id",
   "metadata": {
    "collapsed": true,
    "ExecuteTime": {
     "end_time": "2024-04-17T12:51:15.822825600Z",
     "start_time": "2024-04-17T12:51:15.815820Z"
    }
   },
   "outputs": [],
   "source": [
    "import numpy as np"
   ]
  },
  {
   "cell_type": "code",
   "execution_count": 16,
   "outputs": [
    {
     "name": "stdout",
     "output_type": "stream",
     "text": [
      "标量：5\n",
      "向量：[1 2]\n",
      "矩阵：[[1 2]\n",
      " [3 4]]\n",
      "张量：[[[ 1  2  3]\n",
      "  [ 4  5  6]\n",
      "  [ 7  8  9]]\n",
      "\n",
      " [[11 12 13]\n",
      "  [14 15 16]\n",
      "  [17 18 19]]\n",
      "\n",
      " [[11 12 13]\n",
      "  [14 15 16]\n",
      "  [17 18 19]]]\n"
     ]
    }
   ],
   "source": [
    "# 1.1 标量等\n",
    "# 标量\n",
    "s = 5\n",
    "# 向量\n",
    "v = np.array([1, 2])\n",
    "# 矩阵\n",
    "m = np.array([[1, 2], [3, 4]])\n",
    "# 张量\n",
    "t = np.array([\n",
    "    [[1, 2, 3], [4, 5, 6], [7, 8, 9]],\n",
    "    [[11, 12, 13], [14, 15, 16], [17, 18, 19]],\n",
    "    [[11, 12, 13], [14, 15, 16], [17, 18, 19]],\n",
    "])\n",
    "print(\"标量：\" + str(s))\n",
    "print(\"向量：\" + str(v))\n",
    "print(\"矩阵：\" + str(m))\n",
    "print(\"张量：\" + str(t))"
   ],
   "metadata": {
    "collapsed": false,
    "ExecuteTime": {
     "end_time": "2024-04-17T12:51:15.847824700Z",
     "start_time": "2024-04-17T12:51:15.824825200Z"
    }
   },
   "id": "18c5662b00dae024"
  },
  {
   "cell_type": "code",
   "execution_count": 17,
   "outputs": [
    {
     "name": "stdout",
     "output_type": "stream",
     "text": [
      "矩阵是 [[1. 2.]\n",
      " [1. 0.]\n",
      " [1. 3.]]\n",
      "矩阵的转置是 [[1. 1. 1.]\n",
      " [2. 0. 3.]]\n"
     ]
    }
   ],
   "source": [
    "# 1.2 矩阵转置\n",
    "A = np.array([[1.0, 2.0], [1.0, 0.0], [1.0, 3.0]])\n",
    "A_t = A.transpose()\n",
    "print(\"矩阵是\", A)\n",
    "print(\"矩阵的转置是\", A_t)"
   ],
   "metadata": {
    "collapsed": false,
    "ExecuteTime": {
     "end_time": "2024-04-17T12:51:15.853825200Z",
     "start_time": "2024-04-17T12:51:15.839825100Z"
    }
   },
   "id": "ecfa08149ce18674"
  },
  {
   "cell_type": "code",
   "execution_count": 18,
   "outputs": [
    {
     "name": "stdout",
     "output_type": "stream",
     "text": [
      "矩阵相加： [[ 4.   6. ]\n",
      " [ 8.5 11.5]]\n"
     ]
    }
   ],
   "source": [
    "# 1.3 矩阵加法\n",
    "a = np.array([[1.0, 2.0], [3.0, 4.0]])\n",
    "b = np.array([[3.0, 4.0], [5.5, 7.5]])\n",
    "print(\"矩阵相加：\", a + b)"
   ],
   "metadata": {
    "collapsed": false,
    "ExecuteTime": {
     "end_time": "2024-04-17T12:51:15.868825700Z",
     "start_time": "2024-04-17T12:51:15.854825800Z"
    }
   },
   "id": "37ee50c8894dacac"
  },
  {
   "cell_type": "code",
   "execution_count": 19,
   "outputs": [
    {
     "name": "stdout",
     "output_type": "stream",
     "text": [
      "按矩阵乘法规则： [[16.  2.]\n",
      " [ 1.  2.]]\n",
      "按逐元素相乘： [[1. 6.]\n",
      " [5. 0.]]\n",
      "按逐元素相乘： [[1. 6.]\n",
      " [5. 0.]]\n",
      "向量内积： 14.0\n"
     ]
    }
   ],
   "source": [
    "# 1.4 矩阵乘法\n",
    "m1 = np.array([[1.0,3.0],[1.0,0.0]])\n",
    "m2 = np.array([[1.0,2.0],[5.0,0.0]])\n",
    "print(\"按矩阵乘法规则：\", np.dot(m1, m2)) # 此处为 m1 ⊙ m2 的 Hadamard 乘积\n",
    "print(\"按逐元素相乘：\", np.multiply(m1, m2)) # 此处为 m1 × m2\n",
    "print(\"按逐元素相乘：\", m1*m2)\n",
    "\n",
    "v1 = np.array([1.0,2.0])\n",
    "v2 = np.array([4.0,5.0])\n",
    "print(\"向量内积：\", np.dot(v1, v2))"
   ],
   "metadata": {
    "collapsed": false,
    "ExecuteTime": {
     "end_time": "2024-04-17T12:51:15.889824500Z",
     "start_time": "2024-04-17T12:51:15.871825200Z"
    }
   },
   "id": "65b8aba42bab67e8"
  },
  {
   "cell_type": "code",
   "execution_count": 0,
   "outputs": [],
   "source": [
    "# 1.5 单位矩阵\n",
    "E = 4 * np.identity(3)\n",
    "print(E)"
   ],
   "metadata": {
    "collapsed": false
   },
   "id": "5effe2f508ce7a4b"
  },
  {
   "cell_type": "code",
   "execution_count": 0,
   "outputs": [],
   "source": [
    "# 1.6 矩阵的逆\n",
    "A = [[1.0, 2.0], [3.0, 4.0]]\n",
    "A_inv = np.linalg.inv(A)\n",
    "print(\"A 的逆矩阵：\", A_inv)"
   ],
   "metadata": {
    "collapsed": false
   },
   "id": "81d8073d698dc35"
  },
  {
   "cell_type": "code",
   "execution_count": 0,
   "outputs": [],
   "source": [
    "# 1.7 范数\n",
    "# L^0 范数：如果需要衡量向量中非零元素的个数，但他并不是一个数乘不满足三角不等式和数乘\n",
    "# L^1 范数：绝对值相加\n",
    "# L^2 范数：欧几里得范数，是向量到原点的欧几里得距离\n",
    "# L^∞ 范数：向量元素绝对值的最大值，也被称之为 Max Norm\n",
    "\n",
    "a = np.array([1.0, 3.0])\n",
    "print(\"向量 0 范数\", np.linalg.norm(a, ord = 0))\n",
    "print(\"向量 1 范数\", np.linalg.norm(a, ord = 1))\n",
    "print(\"向量 2 范数\", np.linalg.norm(a, ord = 2))\n",
    "print(\"向量无穷范数\", np.linalg.norm(a, ord = np.inf))\n",
    "a = np.array([[1.0, 3.0], [2.0, 1.0]])\n",
    "print(\"向量 F 范数\", np.linalg.norm(a, ord = \"fro\"))"
   ],
   "metadata": {
    "collapsed": false
   },
   "id": "454c5f466d45be27"
  },
  {
   "cell_type": "code",
   "execution_count": null,
   "outputs": [],
   "source": [
    "# 1.8 特征值分解\n",
    "# A = V \\diag{\\lambda} V^{-1}\n",
    "A = np.array([[1.0,2.0,3.0],\n",
    "[4.0,5.0,6.0],\n",
    "[7.0,8.0,9.0]])\n",
    "\n",
    "# 计算特征值\n",
    "print(\"特征值:\", np.linalg.eigvals(A))\n",
    "# 计算特征值和特征向量\n",
    "eigvals, eigvectors = np.linalg.eig(A)\n",
    "print(\"特征值:\", eigvals)\n",
    "print(\"特征向量:\", eigvectors)"
   ],
   "metadata": {
    "collapsed": false
   },
   "id": "39da13553cfaa35b"
  },
  {
   "cell_type": "code",
   "execution_count": null,
   "outputs": [],
   "source": [
    "# 1.9 奇异值分解\n",
    "A = np.array([[1.0, 2.0, 3.0], [4.0, 5.0, 6.0]])\n",
    "U, D, V = np.linalg.svd(A)\n",
    "print(\"U:\", U)\n",
    "print(\"D:\", D)\n",
    "print(\"V:\", V)"
   ],
   "metadata": {
    "collapsed": false
   },
   "id": "ff1f48c92a1c3c77"
  },
  {
   "cell_type": "code",
   "execution_count": 0,
   "outputs": [],
   "source": [
    "# 1.10 PCA\n",
    "import pandas as pd\n",
    "import numpy as np\n",
    "from sklearn.datasets import load_iris\n",
    "import matplotlib.pyplot as plt\n",
    "from sklearn.preprocessing import StandardScaler\n",
    "%matplotlib inline\n",
    "\n",
    "# 载入数据\n",
    "iris = load_iris()\n",
    "df = pd.DataFrame(iris.data, columns=iris.feature_names)\n",
    "df['label'] = iris.target\n",
    "df.columns = ['sepal length', 'sepal width', 'petal length', 'petal width', 'label']\n",
    "df.label.value_counts()\n",
    "\n",
    "# 查看数据\n",
    "df.tail()\n",
    "\n",
    "# 查看数据\n",
    "X = df.iloc[:, 0:4]\n",
    "y = df.iloc[:, 4]\n",
    "\n",
    "print(\"查看第一个数据： \\n\", X.iloc[0, 0:4])\n",
    "print(\"查看第一个标签: \\n\", y.iloc[0])\n",
    "\n",
    "class PCA():\n",
    "    def __init__(self):\n",
    "        pass\n",
    "    def fit(self, X, n_components):\n",
    "        n_samples = np.shape(X)[0]\n",
    "        covariance_matrix = (1 / (n_samples-1)) * (X - X.mean(axis=0)).T.dot(X - X.mean(axis=0))\n",
    "        # 对协方差矩阵进行特征值分解\n",
    "        eigenvalues, eigenvectors = np.linalg.eig(covariance_matrix)\n",
    "        # 对特征值（特征向量）从大到小排序\n",
    "        idx = eigenvalues.argsort()[::-1]\n",
    "        eigenvalues = eigenvalues[idx][:n_components]\n",
    "        eigenvectors = np.atleast_1d(eigenvectors[:, idx])[:, :n_components]\n",
    "        # 得到低维表示\n",
    "        X_transformed = X.dot(eigenvectors)\n",
    "        return X_transformed\n",
    "    \n",
    "model = PCA()\n",
    "Y = model.fit(X, 2)\n",
    "\n",
    "principalDf = pd.DataFrame(np.array(Y),\n",
    "columns=['principal component 1', 'principal component 2'])\n",
    "Df = pd.concat([principalDf, y], axis = 1)\n",
    "fig = plt.figure(figsize = (5,5))\n",
    "ax = fig.add_subplot(1,1,1)\n",
    "ax.set_xlabel('Principal Component 1', fontsize = 15)\n",
    "ax.set_ylabel('Principal Component 2', fontsize = 15)\n",
    "ax.set_title('2 component PCA', fontsize = 20)\n",
    "\n",
    "targets = [0, 1, 2]\n",
    "# ['Iris-setosa', 'Iris-versicolor', 'Iris-virginica']\n",
    "colors = ['r', 'g', 'b']\n",
    "for target, color in zip(targets,colors):\n",
    "    indicesToKeep = Df['label'] == target\n",
    "    ax.scatter(Df.loc[indicesToKeep, 'principal component 1'], Df.loc[indicesToKeep, 'principal component 2'], c = color, s = 50)\n",
    "ax.legend(targets)\n",
    "ax.grid()\n",
    "\n",
    "# 使用 sklearn 包实现PCA\n",
    "from sklearn.decomposition import PCA as sklearnPCA\n",
    "sklearn_pca = sklearnPCA(n_components=2)\n",
    "Y = sklearn_pca.fit_transform(X)\n",
    "principalDf = pd.DataFrame(data = np.array(Y), columns = ['principal component 1', 'principal component 2'])\n",
    "Df = pd.concat([principalDf, y], axis = 1)\n",
    "fig = plt.figure(figsize = (5,5))\n",
    "ax = fig.add_subplot(1,1,1)\n",
    "ax.set_xlabel('Principal Component 1', fontsize = 15)\n",
    "ax.set_ylabel('Principal Component 2', fontsize = 15)\n",
    "ax.set_title('2 component PCA', fontsize = 20)\n",
    "targets = [0, 1, 2]\n",
    "# ['Iris-setosa', 'Iris-versicolor', 'Iris-virginica']\n",
    "colors = ['r', 'g', 'b']\n",
    "for target, color in zip(targets,colors):\n",
    "    indicesToKeep = Df['label'] == target\n",
    "    ax.scatter(Df.loc[indicesToKeep, 'principal component 1'], Df.loc[indicesToKeep, 'principal component 2'], c = color, s = 50)\n",
    "ax.legend(targets)\n",
    "ax.grid()\n",
    "\n",
    "# 版本情况查询\n",
    "import numpy, pandas, matplotlib, sklearn\n",
    "print(\"numpy:\", numpy.__version__)\n",
    "print(\"pandas:\", pandas.__version__)\n",
    "print(\"matplotlib:\", matplotlib.__version__)\n",
    "print(\"sklearn:\", sklearn.__version__)"
   ],
   "metadata": {
    "collapsed": false
   },
   "id": "803d59ad1fe94080"
  },
  {
   "cell_type": "code",
   "execution_count": 0,
   "outputs": [],
   "source": [
    "# 2.1 概率\n",
    "import numpy as np\n",
    "import matplotlib.pyplot as plt\n",
    "from scipy.stats import uniform\n",
    "%matplotlib inline\n",
    "\n",
    "# 生成样本\n",
    "fig, ax = plt.subplots(1, 1)\n",
    "r = uniform.rvs(loc=0, scale=1, size=1000)\n",
    "ax.hist(r, density=True, histtype='stepfilled', alpha=0.5)\n",
    "# 均匀分布pdf\n",
    "x = np.linspace(uniform.ppf(0.01), uniform.ppf(0.99), 100)\n",
    "ax.plot(x, uniform.pdf(x), 'r-', lw=5, alpha=0.8, label='uniform pdf')"
   ],
   "metadata": {
    "collapsed": false
   },
   "id": "59a1000868466a33"
  },
  {
   "cell_type": "code",
   "execution_count": 0,
   "outputs": [],
   "source": [
    "# 2.1.4 度量\n",
    "x = np.array([1,2,3,4,5,6,7,8,9])\n",
    "y = np.array([9,8,7,6,5,4,3,2,1])\n",
    "Mean = np.mean(x)\n",
    "Var = np.var(x) # 默认总体方差\n",
    "Var_unbias = np.var(x, ddof=1) # 样本方差（无偏方差）\n",
    "Cov = np.cov(x,y)\n",
    "Mean, Var, Var_unbias, Cov"
   ],
   "metadata": {
    "collapsed": false
   },
   "id": "dfacceef999ee7be"
  },
  {
   "cell_type": "code",
   "execution_count": 0,
   "outputs": [],
   "source": [
    "# 2.1.5 常用概率分布\n",
    "# 伯努利分布\n",
    "def plot_distribution(X, axes=None):\n",
    "    \"\"\" 给定随机变量，绘制PDF，PMF，CDF\"\"\"\n",
    "    if axes is None:\n",
    "        fig, axes = plt.subplots(1, 2, figsize=(10, 3))\n",
    "    x_min, x_max = X.interval(0.99)\n",
    "    x = np.linspace(x_min, x_max, 1000)\n",
    "    if hasattr(X.dist, 'pdf'): # 判断有没有pdf，即是不是连续分布\n",
    "        axes[0].plot(x, X.pdf(x), label=\"PDF\")\n",
    "        axes[0].fill_between(x, X.pdf(x), alpha=0.5) # alpha 是透明度，alpha=0 表示100% 透明，alpha=100 表示完全不透明\n",
    "    else: # 离散分布\n",
    "        x_int = np.unique(x.astype(int))\n",
    "        axes[0].bar(x_int, X.pmf(x_int), label=\"PMF\") # pmf 和pdf 是类似的\n",
    "    axes[1].plot(x, X.cdf(x), label=\"CDF\")\n",
    "    for ax in axes:\n",
    "        ax.legend()\n",
    "    return axes\n",
    "\n",
    "from scipy.stats import bernoulli\n",
    "fig, axes = plt.subplots(1, 2, figsize=(10, 3)) # 画布\n",
    "p = 0.3\n",
    "X = bernoulli(p) # 伯努利分布\n",
    "plot_distribution(X, axes=axes)"
   ],
   "metadata": {
    "collapsed": false
   },
   "id": "c26372360bc3904c"
  },
  {
   "cell_type": "code",
   "execution_count": 0,
   "outputs": [],
   "source": [
    "# 产生成功的概率\n",
    "possibility = 0.3\n",
    "def trials(n_samples):\n",
    "    samples = np.random.binomial(n_samples, possibility) # 成功的次数\n",
    "    proba_zero = (n_samples-samples)/n_samples\n",
    "    proba_one = samples/n_samples\n",
    "    return [proba_zero, proba_one]\n",
    "fig, axes = plt.subplots(1, 2, figsize=(10, 3))\n",
    "# 一次试验， 伯努利分布\n",
    "n_samples = 1\n",
    "axes[0].bar([0, 1], trials(n_samples), label=\"Bernoulli\")\n",
    "# n 次试验， 二项分布\n",
    "n_samples = 1000\n",
    "axes[1].bar([0, 1], trials(n_samples), label=\"Binomial\")\n",
    "for ax in axes:\n",
    "    ax.legend()"
   ],
   "metadata": {
    "collapsed": false
   },
   "id": "42f0d5a796121689"
  },
  {
   "cell_type": "code",
   "execution_count": 0,
   "outputs": [],
   "source": [
    "# 范畴分布\n",
    "def k_possibilities(k):\n",
    "    \"\"\"\n",
    "    随机产生一组10 维概率向量\n",
    "    \"\"\"\n",
    "    res = np.random.rand(k)\n",
    "    _sum = sum(res)\n",
    "    for i, x in enumerate(res):\n",
    "        res[i] = x / _sum\n",
    "    return res\n",
    "\n",
    "fig, axes = plt.subplots(1, 2, figsize=(10, 3))\n",
    "# 一次试验， 范畴分布\n",
    "k, n_samples = 10, 1\n",
    "samples = np.random.multinomial(n_samples, k_possibilities(k)) # 各维度“成功”的次数\n",
    "axes[0].bar(range(len(samples)), samples/n_samples, label=\"Multinoulli\")\n",
    "# n 次试验， 多项分布\n",
    "n_samples = 1000\n",
    "samples = np.random.multinomial(n_samples, k_possibilities(k))\n",
    "axes[1].bar(range(len(samples)), samples/n_samples, label=\"Multinomial\")\n",
    "for ax in axes:\n",
    "    ax.legend()"
   ],
   "metadata": {
    "collapsed": false
   },
   "id": "cd0f74057dccc6e8"
  },
  {
   "cell_type": "code",
   "execution_count": 0,
   "outputs": [],
   "source": [
    "# 高斯分布、正态分布\n",
    "from scipy.stats import norm\n",
    "fig, axes = plt.subplots(1, 2, figsize=(10, 3)) # 画布\n",
    "mu, sigma = 0, 1\n",
    "X = norm(mu, sigma) # 标准正态分布\n",
    "plot_distribution(X, axes=axes)"
   ],
   "metadata": {
    "collapsed": false
   },
   "id": "218ba763e8e4718c"
  },
  {
   "cell_type": "code",
   "execution_count": 0,
   "outputs": [],
   "source": [
    "# 多元高斯分布、正态分布\n",
    "from scipy.stats import multivariate_normal\n",
    "import matplotlib.pyplot as plt\n",
    "x, y = np.mgrid[-1:1:.01, -1:1:.01]\n",
    "pos = np.dstack((x, y))\n",
    "fig = plt.figure(figsize=(4,4))\n",
    "axes = fig.add_subplot(111)\n",
    "mu = [0.5, -0.2] # 均值\n",
    "sigma = [[2.0, 0.3], [0.3, 0.5]] # 协方差矩阵\n",
    "X = multivariate_normal(mu, sigma)\n",
    "axes.contourf(x, y, X.pdf(pos))"
   ],
   "metadata": {
    "collapsed": false
   },
   "id": "4c92c6b4134c5db"
  },
  {
   "cell_type": "code",
   "execution_count": 0,
   "outputs": [],
   "source": [
    "# 指数分布\n",
    "from scipy.stats import expon\n",
    "fig, axes = plt.subplots(1, 2, figsize=(10, 3))\n",
    "# 定义scale = 1 / lambda\n",
    "X = expon(scale=1)\n",
    "plot_distribution(X, axes=axes)"
   ],
   "metadata": {
    "collapsed": false
   },
   "id": "8ec8e6025d6697d8"
  },
  {
   "cell_type": "code",
   "execution_count": 0,
   "outputs": [],
   "source": [
    "# 拉普拉斯分布\n",
    "from scipy.stats import laplace\n",
    "fig, axes = plt.subplots(1, 2, figsize=(10, 3))\n",
    "mu, gamma = 0, 1\n",
    "X = laplace(loc=mu, scale=gamma)\n",
    "plot_distribution(X, axes=axes)"
   ],
   "metadata": {
    "collapsed": false
   },
   "id": "c8bf53842d8d6334"
  },
  {
   "cell_type": "code",
   "execution_count": 0,
   "outputs": [],
   "source": [
    "# 常见函数的有用性质\n",
    "# sigmoid 函数和 softplus 函数\n",
    "x = np.linspace(-10, 10, 100)\n",
    "sigmoid = 1/(1 + np.exp(-x))\n",
    "softplus = np.log(1 + np.exp(x))\n",
    "fig, axes = plt.subplots(1, 2, figsize=(10, 3))\n",
    "axes[0].plot(x, sigmoid, label='sigmoid')\n",
    "axes[1].plot(x, softplus, label='softplus')\n",
    "for ax in axes:\n",
    "    ax.legend()"
   ],
   "metadata": {
    "collapsed": false
   },
   "id": "93978813c1f2ed76"
  },
  {
   "cell_type": "markdown",
   "source": [
    "## 信息论\n",
    "# 信息论背后的思想：一个不太可能的事件可能比一个可能的事件更加有信息量\n",
    "# 信息需要满足三个条件：\n",
    "# • 比较可能发生的事件的信息量要少。\n",
    "# • 比较不可能发生的事件的信息量要大。\n",
    "# • 独立发生的事件之间的信息量应该是可以叠加的。例如，投掷的硬币两次正面朝上传递的信息量，应该是投掷⼀次硬币正面朝上的信息量的两倍。\n",
    "\n",
    "# 自信息\n",
    "# 自信息(Self-Information)：对事件x = x，我们定义：\n",
    "# I(x) = - log P(x)\n",
    "# 自信息满足上面三个条件，单位是奈特(nats) （底为e）\n",
    "\n",
    "# 香农熵(Shannon Entropy)：上述的自信息只包含⼀个事件的信息，而对于整个概率分布P，不确定性可以这样衡量：\n",
    "# $E_{x~P} [I (x)] = - E_{x~P} [log P (x)]$\n",
    "# 也可以表示成H(P)。香农熵是编码原理中最优编码长度。\n",
    "\n",
    "# 多个随机变量：\n",
    "# • 联合熵(Joint Entropy)：表示同时考虑多个事件的条件下（即考虑联合分布概率）的熵。\n",
    "# $H(X;Y) = Σ_{x;y} P(x;y) | log (P(x;y))$\n",
    "# • 条件熵(Conditional Entropy)：表示某件事情已经发生的情况下，另外一件事情的熵。\n",
    "# $H(X|Y) = - Σ_y P(y) Σ_x P(x|y) log(P(x|y))$\n",
    "# • 互信息(Mutual Information)：表示两个事件的信息相交的部分。\n",
    "# $I(X;Y) = H(X) + H(Y) − H(X;Y)$\n",
    "# • 信息变差(Variation of Information)：表示两个事件的信息不相交的部分。\n",
    "# $V(X;Y) = H(X;Y) − I(X;Y)$"
   ],
   "metadata": {
    "collapsed": false
   },
   "id": "d507cace4f46272d"
  },
  {
   "cell_type": "code",
   "execution_count": 0,
   "outputs": [],
   "source": [
    "p = np.linspace(1e-6,1-1e-6,100)\n",
    "entropy = (p-1)*np.log(1-p)-p*np.log(p)\n",
    "plt.figure(figsize=(4,4))\n",
    "plt.plot(p,entropy)\n",
    "plt.xlabel('p')\n",
    "plt.ylabel('Shannon entropy in nats')\n",
    "plt.show()"
   ],
   "metadata": {
    "collapsed": false
   },
   "id": "647449a03f09336f"
  },
  {
   "cell_type": "code",
   "execution_count": 0,
   "outputs": [],
   "source": [
    "# 最优编码长度\n",
    "def H(sentence):\n",
    "    \"\"\"\n",
    "    最优编码长度\n",
    "    \"\"\"\n",
    "    entropy = 0\n",
    "    # 这里有 256 个可能的ASCII 符号\n",
    "    for character_i in range(256):\n",
    "        Px = sentence.count(chr(character_i))/len(sentence)\n",
    "    if Px > 0:\n",
    "        entropy += -Px * math.log(Px,2) # 注:log 以2 为底\n",
    "    return entropy\n",
    "\n",
    "import random\n",
    "import math\n",
    "# 只用 64 个字符\n",
    "simple_message = \"\".join([chr(random.randint(0,64)) for i in range(500)])\n",
    "print(simple_message)\n",
    "H(simple_message)"
   ],
   "metadata": {
    "collapsed": false
   },
   "id": "5bb4263c666f0db5"
  },
  {
   "cell_type": "markdown",
   "source": [
    "# KL 散度 (Kullback-Leibler Divergence) 用于衡量两个分布 P(x) 和 Q(x) 之间的差距：\n",
    "$ D_{KL} (P||Q) = E_{x \\sim P} [ \\log{\\frac{P(x)}{Q(x)}}] = E_{x \\sim P} [ \\log{P(x)} - \\log {{Q(x)}] $\n",
    "注意$D_{KL}(P||Q) \\ne DKL(Q||P)$，不满足对称性。\n",
    "\n",
    "# 交叉熵(Cross Entropy)：\n",
    "$H(P;Q) = H(P) + D_{KL}(P||Q) = -E_{x \\sim P}[log Q(x)]$"
   ],
   "metadata": {
    "collapsed": false
   },
   "id": "c22da2205e275f1a"
  },
  {
   "cell_type": "code",
   "execution_count": null,
   "outputs": [],
   "source": [],
   "metadata": {
    "collapsed": false
   },
   "id": "5e09f81422c39b46"
  },
  {
   "cell_type": "code",
   "execution_count": 60,
   "outputs": [
    {
     "name": "stdout",
     "output_type": "stream",
     "text": [
      ")9\u0011\u0014<\u001A\u0001*474\u00036\u0000.7\u000E?\n",
      "7%5\u0013\u0015\u000E\u0000\u000E'3:-\u0000\u00046,\n",
      "2<1\u001D\u0014\u001A\u001C\u0017\n",
      "\u000E\u000E&\n",
      "6\u001A\u0018\u0013\u0006\u000F\f\u0010\f3\u00121\u0018,2\t\u000E\u00109\u00182+:5\u0013\u001D\u0003\"3\u001B<=//\u0014=\u000F\u000B\u001D\u0013(@'\f\u001529,\u00003\u0019\u0011\u0005\t\u001D1\f\u000B\u0017?\u0007!;\u0003\u0012\"=\u0007\u0002\u0012\u001F\u0005\u0012/\f(\u00052\u001C!\u0018\u0010\u0004@\u00106\u0003\u000B\u001F\u001C8\u000E\"4-\u0007\t9\t\u001A\u0002\u001E8*4\u001989\u0000\u000E$2\n",
      "*\u001B*\u0013.'\u0004\u0005\"\u001C\u000E\u0003\u0017= >#\u00100\u0002\f2\"6)*\u00066\u00156/\u0000 \u000F\u0005)5\u0002=\u000E(\u0016-\u001D4\u0012\u001E\u0019*.*\u0014!<\u000B#$\u001B\u000E\n",
      "\u0011\u0017\u0014\u0005\u000F\u0003\u0015\"\f\t8\u0006\u000F;6(\u001E/!\u0003-\n",
      "\u00149\u0011(\f%\u000F\u0018\u0007$\u00043\t'\u0012\u00039/\u001E?\u0005,\u0005@'\u0001\u000B\u00028\u0003%\u001F\u001B.-(\u000F+/99\u00040(-\u000B!\u0012\u0006<\u00156\u00178.$\u001C< /,:)&\u0019\u00059\"\u001F\u0019 \u0015#1\u0007\u0016#%60\u000F\u0006\u0007\u0011\u000E\u0018)/\u0014*\u0014#9;\n"
     ]
    },
    {
     "data": {
      "text/plain": "0"
     },
     "execution_count": 60,
     "metadata": {},
     "output_type": "execute_result"
    }
   ],
   "source": [],
   "metadata": {
    "collapsed": false,
    "ExecuteTime": {
     "start_time": "2024-04-17T16:00:14.302984900Z"
    }
   },
   "id": "886a9adcb7f5d9a2"
  },
  {
   "cell_type": "markdown",
   "source": [],
   "metadata": {
    "collapsed": false
   },
   "id": "74c4a4d2599d40bf"
  }
 ],
 "metadata": {
  "kernelspec": {
   "display_name": "Python 3",
   "language": "python",
   "name": "python3"
  },
  "language_info": {
   "codemirror_mode": {
    "name": "ipython",
    "version": 2
   },
   "file_extension": ".py",
   "mimetype": "text/x-python",
   "name": "python",
   "nbconvert_exporter": "python",
   "pygments_lexer": "ipython2",
   "version": "2.7.6"
  }
 },
 "nbformat": 4,
 "nbformat_minor": 5
}
