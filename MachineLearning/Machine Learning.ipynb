{
 "cells": [
  {
   "cell_type": "code",
   "execution_count": 3,
   "id": "initial_id",
   "metadata": {
    "collapsed": true,
    "ExecuteTime": {
     "end_time": "2024-04-18T12:23:46.911458200Z",
     "start_time": "2024-04-18T12:23:46.825288400Z"
    }
   },
   "outputs": [],
   "source": [
    "import numpy as np"
   ]
  },
  {
   "cell_type": "code",
   "execution_count": 16,
   "outputs": [
    {
     "name": "stdout",
     "output_type": "stream",
     "text": [
      "标量：5\n",
      "向量：[1 2]\n",
      "矩阵：[[1 2]\n",
      " [3 4]]\n",
      "张量：[[[ 1  2  3]\n",
      "  [ 4  5  6]\n",
      "  [ 7  8  9]]\n",
      "\n",
      " [[11 12 13]\n",
      "  [14 15 16]\n",
      "  [17 18 19]]\n",
      "\n",
      " [[11 12 13]\n",
      "  [14 15 16]\n",
      "  [17 18 19]]]\n"
     ]
    }
   ],
   "source": [
    "# 1.1 标量等\n",
    "# 标量\n",
    "s = 5\n",
    "# 向量\n",
    "v = np.array([1, 2])\n",
    "# 矩阵\n",
    "m = np.array([[1, 2], [3, 4]])\n",
    "# 张量\n",
    "t = np.array([\n",
    "    [[1, 2, 3], [4, 5, 6], [7, 8, 9]],\n",
    "    [[11, 12, 13], [14, 15, 16], [17, 18, 19]],\n",
    "    [[11, 12, 13], [14, 15, 16], [17, 18, 19]],\n",
    "])\n",
    "print(\"标量：\" + str(s))\n",
    "print(\"向量：\" + str(v))\n",
    "print(\"矩阵：\" + str(m))\n",
    "print(\"张量：\" + str(t))"
   ],
   "metadata": {
    "collapsed": false,
    "ExecuteTime": {
     "end_time": "2024-04-17T12:51:15.847824700Z",
     "start_time": "2024-04-17T12:51:15.824825200Z"
    }
   },
   "id": "18c5662b00dae024"
  },
  {
   "cell_type": "code",
   "execution_count": 17,
   "outputs": [
    {
     "name": "stdout",
     "output_type": "stream",
     "text": [
      "矩阵是 [[1. 2.]\n",
      " [1. 0.]\n",
      " [1. 3.]]\n",
      "矩阵的转置是 [[1. 1. 1.]\n",
      " [2. 0. 3.]]\n"
     ]
    }
   ],
   "source": [
    "# 1.2 矩阵转置\n",
    "A = np.array([[1.0, 2.0], [1.0, 0.0], [1.0, 3.0]])\n",
    "A_t = A.transpose()\n",
    "print(\"矩阵是\", A)\n",
    "print(\"矩阵的转置是\", A_t)"
   ],
   "metadata": {
    "collapsed": false,
    "ExecuteTime": {
     "end_time": "2024-04-17T12:51:15.853825200Z",
     "start_time": "2024-04-17T12:51:15.839825100Z"
    }
   },
   "id": "ecfa08149ce18674"
  },
  {
   "cell_type": "code",
   "execution_count": 18,
   "outputs": [
    {
     "name": "stdout",
     "output_type": "stream",
     "text": [
      "矩阵相加： [[ 4.   6. ]\n",
      " [ 8.5 11.5]]\n"
     ]
    }
   ],
   "source": [
    "# 1.3 矩阵加法\n",
    "a = np.array([[1.0, 2.0], [3.0, 4.0]])\n",
    "b = np.array([[3.0, 4.0], [5.5, 7.5]])\n",
    "print(\"矩阵相加：\", a + b)"
   ],
   "metadata": {
    "collapsed": false,
    "ExecuteTime": {
     "end_time": "2024-04-17T12:51:15.868825700Z",
     "start_time": "2024-04-17T12:51:15.854825800Z"
    }
   },
   "id": "37ee50c8894dacac"
  },
  {
   "cell_type": "code",
   "execution_count": 19,
   "outputs": [
    {
     "name": "stdout",
     "output_type": "stream",
     "text": [
      "按矩阵乘法规则： [[16.  2.]\n",
      " [ 1.  2.]]\n",
      "按逐元素相乘： [[1. 6.]\n",
      " [5. 0.]]\n",
      "按逐元素相乘： [[1. 6.]\n",
      " [5. 0.]]\n",
      "向量内积： 14.0\n"
     ]
    }
   ],
   "source": [
    "# 1.4 矩阵乘法\n",
    "m1 = np.array([[1.0,3.0],[1.0,0.0]])\n",
    "m2 = np.array([[1.0,2.0],[5.0,0.0]])\n",
    "print(\"按矩阵乘法规则：\", np.dot(m1, m2)) # 此处为 m1 ⊙ m2 的 Hadamard 乘积\n",
    "print(\"按逐元素相乘：\", np.multiply(m1, m2)) # 此处为 m1 × m2\n",
    "print(\"按逐元素相乘：\", m1*m2)\n",
    "\n",
    "v1 = np.array([1.0,2.0])\n",
    "v2 = np.array([4.0,5.0])\n",
    "print(\"向量内积：\", np.dot(v1, v2))"
   ],
   "metadata": {
    "collapsed": false,
    "ExecuteTime": {
     "end_time": "2024-04-17T12:51:15.889824500Z",
     "start_time": "2024-04-17T12:51:15.871825200Z"
    }
   },
   "id": "65b8aba42bab67e8"
  },
  {
   "cell_type": "code",
   "execution_count": 0,
   "outputs": [],
   "source": [
    "# 1.5 单位矩阵\n",
    "E = 4 * np.identity(3)\n",
    "print(E)"
   ],
   "metadata": {
    "collapsed": false
   },
   "id": "5effe2f508ce7a4b"
  },
  {
   "cell_type": "code",
   "execution_count": 0,
   "outputs": [],
   "source": [
    "# 1.6 矩阵的逆\n",
    "A = [[1.0, 2.0], [3.0, 4.0]]\n",
    "A_inv = np.linalg.inv(A)\n",
    "print(\"A 的逆矩阵：\", A_inv)"
   ],
   "metadata": {
    "collapsed": false
   },
   "id": "81d8073d698dc35"
  },
  {
   "cell_type": "code",
   "execution_count": 0,
   "outputs": [],
   "source": [
    "# 1.7 范数\n",
    "# L^0 范数：如果需要衡量向量中非零元素的个数，但他并不是一个数乘不满足三角不等式和数乘\n",
    "# L^1 范数：绝对值相加\n",
    "# L^2 范数：欧几里得范数，是向量到原点的欧几里得距离\n",
    "# L^∞ 范数：向量元素绝对值的最大值，也被称之为 Max Norm\n",
    "\n",
    "a = np.array([1.0, 3.0])\n",
    "print(\"向量 0 范数\", np.linalg.norm(a, ord = 0))\n",
    "print(\"向量 1 范数\", np.linalg.norm(a, ord = 1))\n",
    "print(\"向量 2 范数\", np.linalg.norm(a, ord = 2))\n",
    "print(\"向量无穷范数\", np.linalg.norm(a, ord = np.inf))\n",
    "a = np.array([[1.0, 3.0], [2.0, 1.0]])\n",
    "print(\"向量 F 范数\", np.linalg.norm(a, ord = \"fro\"))"
   ],
   "metadata": {
    "collapsed": false
   },
   "id": "454c5f466d45be27"
  },
  {
   "cell_type": "code",
   "execution_count": null,
   "outputs": [],
   "source": [
    "# 1.8 特征值分解\n",
    "# A = V \\diag{\\lambda} V^{-1}\n",
    "A = np.array([[1.0,2.0,3.0],\n",
    "[4.0,5.0,6.0],\n",
    "[7.0,8.0,9.0]])\n",
    "\n",
    "# 计算特征值\n",
    "print(\"特征值:\", np.linalg.eigvals(A))\n",
    "# 计算特征值和特征向量\n",
    "eigvals, eigvectors = np.linalg.eig(A)\n",
    "print(\"特征值:\", eigvals)\n",
    "print(\"特征向量:\", eigvectors)"
   ],
   "metadata": {
    "collapsed": false
   },
   "id": "39da13553cfaa35b"
  },
  {
   "cell_type": "code",
   "execution_count": null,
   "outputs": [],
   "source": [
    "# 1.9 奇异值分解\n",
    "A = np.array([[1.0, 2.0, 3.0], [4.0, 5.0, 6.0]])\n",
    "U, D, V = np.linalg.svd(A)\n",
    "print(\"U:\", U)\n",
    "print(\"D:\", D)\n",
    "print(\"V:\", V)"
   ],
   "metadata": {
    "collapsed": false
   },
   "id": "ff1f48c92a1c3c77"
  },
  {
   "cell_type": "code",
   "execution_count": 8,
   "outputs": [
    {
     "name": "stdout",
     "output_type": "stream",
     "text": [
      "查看第一个数据： \n",
      " sepal length    5.1\n",
      "sepal width     3.5\n",
      "petal length    1.4\n",
      "petal width     0.2\n",
      "Name: 0, dtype: float64\n",
      "查看第一个标签: \n",
      " 0\n",
      "numpy: 1.26.2\n",
      "pandas: 2.1.3\n",
      "matplotlib: 3.8.1\n",
      "sklearn: 1.3.2\n"
     ]
    },
    {
     "data": {
      "text/plain": "<Figure size 500x500 with 1 Axes>",
      "image/png": "[encoded data removed]"
     },
     "metadata": {},
     "output_type": "display_data"
    },
    {
     "data": {
      "text/plain": "<Figure size 500x500 with 1 Axes>",
      "image/png": "[encoded data removed]"
     },
     "metadata": {},
     "output_type": "display_data"
    }
   ],
   "source": [
    "# 1.10 PCA\n",
    "import pandas as pd\n",
    "import numpy as np\n",
    "from sklearn.datasets import load_iris\n",
    "import matplotlib.pyplot as plt\n",
    "from sklearn.preprocessing import StandardScaler\n",
    "%matplotlib inline\n",
    "\n",
    "# 载入数据\n",
    "iris = load_iris()\n",
    "df = pd.DataFrame(iris.data, columns=iris.feature_names)\n",
    "df['label'] = iris.target\n",
    "df.columns = ['sepal length', 'sepal width', 'petal length', 'petal width', 'label']\n",
    "df.label.value_counts()\n",
    "\n",
    "# 查看数据\n",
    "df.tail()\n",
    "\n",
    "# 查看数据\n",
    "X = df.iloc[:, 0:4]\n",
    "y = df.iloc[:, 4]\n",
    "\n",
    "print(\"查看第一个数据： \\n\", X.iloc[0, 0:4])\n",
    "print(\"查看第一个标签: \\n\", y.iloc[0])\n",
    "\n",
    "class PCA():\n",
    "    def __init__(self):\n",
    "        pass\n",
    "    def fit(self, X, n_components):\n",
    "        n_samples = np.shape(X)[0]\n",
    "        covariance_matrix = (1 / (n_samples-1)) * (X - X.mean(axis=0)).T.dot(X - X.mean(axis=0))\n",
    "        # 对协方差矩阵进行特征值分解\n",
    "        eigenvalues, eigenvectors = np.linalg.eig(covariance_matrix)\n",
    "        # 对特征值（特征向量）从大到小排序\n",
    "        idx = eigenvalues.argsort()[::-1]\n",
    "        eigenvalues = eigenvalues[idx][:n_components]\n",
    "        eigenvectors = np.atleast_1d(eigenvectors[:, idx])[:, :n_components]\n",
    "        # 得到低维表示\n",
    "        X_transformed = X.dot(eigenvectors)\n",
    "        return X_transformed\n",
    "    \n",
    "model = PCA()\n",
    "Y = model.fit(X, 2)\n",
    "\n",
    "principalDf = pd.DataFrame(np.array(Y),\n",
    "columns=['principal component 1', 'principal component 2'])\n",
    "Df = pd.concat([principalDf, y], axis = 1)\n",
    "fig = plt.figure(figsize = (5,5))\n",
    "ax = fig.add_subplot(1,1,1)\n",
    "ax.set_xlabel('Principal Component 1', fontsize = 15)\n",
    "ax.set_ylabel('Principal Component 2', fontsize = 15)\n",
    "ax.set_title('2 component PCA', fontsize = 20)\n",
    "\n",
    "targets = [0, 1, 2]\n",
    "# ['Iris-setosa', 'Iris-versicolor', 'Iris-virginica']\n",
    "colors = ['r', 'g', 'b']\n",
    "for target, color in zip(targets,colors):\n",
    "    indicesToKeep = Df['label'] == target\n",
    "    ax.scatter(Df.loc[indicesToKeep, 'principal component 1'], Df.loc[indicesToKeep, 'principal component 2'], c = color, s = 50)\n",
    "ax.legend(targets)\n",
    "ax.grid()\n",
    "\n",
    "# 使用 sklearn 包实现PCA\n",
    "from sklearn.decomposition import PCA as sklearnPCA\n",
    "sklearn_pca = sklearnPCA(n_components=2)\n",
    "Y = sklearn_pca.fit_transform(X)\n",
    "principalDf = pd.DataFrame(data = np.array(Y), columns = ['principal component 1', 'principal component 2'])\n",
    "Df = pd.concat([principalDf, y], axis = 1)\n",
    "fig = plt.figure(figsize = (5,5))\n",
    "ax = fig.add_subplot(1,1,1)\n",
    "ax.set_xlabel('Principal Component 1', fontsize = 15)\n",
    "ax.set_ylabel('Principal Component 2', fontsize = 15)\n",
    "ax.set_title('2 component PCA', fontsize = 20)\n",
    "targets = [0, 1, 2]\n",
    "# ['Iris-setosa', 'Iris-versicolor', 'Iris-virginica']\n",
    "colors = ['r', 'g', 'b']\n",
    "for target, color in zip(targets,colors):\n",
    "    indicesToKeep = Df['label'] == target\n",
    "    ax.scatter(Df.loc[indicesToKeep, 'principal component 1'], Df.loc[indicesToKeep, 'principal component 2'], c = color, s = 50)\n",
    "ax.legend(targets)\n",
    "ax.grid()\n",
    "\n",
    "# 版本情况查询\n",
    "import numpy, pandas, matplotlib, sklearn\n",
    "print(\"numpy:\", numpy.__version__)\n",
    "print(\"pandas:\", pandas.__version__)\n",
    "print(\"matplotlib:\", matplotlib.__version__)\n",
    "print(\"sklearn:\", sklearn.__version__)"
   ],
   "metadata": {
    "collapsed": false,
    "ExecuteTime": {
     "end_time": "2024-04-18T07:05:53.910198600Z",
     "start_time": "2024-04-18T07:05:50.743082100Z"
    }
   },
   "id": "803d59ad1fe94080"
  },
  {
   "cell_type": "code",
   "execution_count": 0,
   "outputs": [],
   "source": [
    "# 2.1 概率\n",
    "import numpy as np\n",
    "import matplotlib.pyplot as plt\n",
    "from scipy.stats import uniform\n",
    "%matplotlib inline\n",
    "\n",
    "# 生成样本\n",
    "fig, ax = plt.subplots(1, 1)\n",
    "r = uniform.rvs(loc=0, scale=1, size=1000)\n",
    "ax.hist(r, density=True, histtype='stepfilled', alpha=0.5)\n",
    "# 均匀分布pdf\n",
    "x = np.linspace(uniform.ppf(0.01), uniform.ppf(0.99), 100)\n",
    "ax.plot(x, uniform.pdf(x), 'r-', lw=5, alpha=0.8, label='uniform pdf')"
   ],
   "metadata": {
    "collapsed": false
   },
   "id": "59a1000868466a33"
  },
  {
   "cell_type": "code",
   "execution_count": 0,
   "outputs": [],
   "source": [
    "# 2.1.4 度量\n",
    "x = np.array([1,2,3,4,5,6,7,8,9])\n",
    "y = np.array([9,8,7,6,5,4,3,2,1])\n",
    "Mean = np.mean(x)\n",
    "Var = np.var(x) # 默认总体方差\n",
    "Var_unbias = np.var(x, ddof=1) # 样本方差（无偏方差）\n",
    "Cov = np.cov(x,y)\n",
    "Mean, Var, Var_unbias, Cov"
   ],
   "metadata": {
    "collapsed": false
   },
   "id": "dfacceef999ee7be"
  },
  {
   "cell_type": "code",
   "execution_count": 0,
   "outputs": [],
   "source": [
    "# 2.1.5 常用概率分布\n",
    "# 伯努利分布\n",
    "def plot_distribution(X, axes=None):\n",
    "    \"\"\" 给定随机变量，绘制PDF，PMF，CDF\"\"\"\n",
    "    if axes is None:\n",
    "        fig, axes = plt.subplots(1, 2, figsize=(10, 3))\n",
    "    x_min, x_max = X.interval(0.99)\n",
    "    x = np.linspace(x_min, x_max, 1000)\n",
    "    if hasattr(X.dist, 'pdf'): # 判断有没有pdf，即是不是连续分布\n",
    "        axes[0].plot(x, X.pdf(x), label=\"PDF\")\n",
    "        axes[0].fill_between(x, X.pdf(x), alpha=0.5) # alpha 是透明度，alpha=0 表示100% 透明，alpha=100 表示完全不透明\n",
    "    else: # 离散分布\n",
    "        x_int = np.unique(x.astype(int))\n",
    "        axes[0].bar(x_int, X.pmf(x_int), label=\"PMF\") # pmf 和pdf 是类似的\n",
    "    axes[1].plot(x, X.cdf(x), label=\"CDF\")\n",
    "    for ax in axes:\n",
    "        ax.legend()\n",
    "    return axes\n",
    "\n",
    "from scipy.stats import bernoulli\n",
    "fig, axes = plt.subplots(1, 2, figsize=(10, 3)) # 画布\n",
    "p = 0.3\n",
    "X = bernoulli(p) # 伯努利分布\n",
    "plot_distribution(X, axes=axes)"
   ],
   "metadata": {
    "collapsed": false
   },
   "id": "c26372360bc3904c"
  },
  {
   "cell_type": "code",
   "execution_count": 0,
   "outputs": [],
   "source": [
    "# 产生成功的概率\n",
    "possibility = 0.3\n",
    "def trials(n_samples):\n",
    "    samples = np.random.binomial(n_samples, possibility) # 成功的次数\n",
    "    proba_zero = (n_samples-samples)/n_samples\n",
    "    proba_one = samples/n_samples\n",
    "    return [proba_zero, proba_one]\n",
    "fig, axes = plt.subplots(1, 2, figsize=(10, 3))\n",
    "# 一次试验， 伯努利分布\n",
    "n_samples = 1\n",
    "axes[0].bar([0, 1], trials(n_samples), label=\"Bernoulli\")\n",
    "# n 次试验， 二项分布\n",
    "n_samples = 1000\n",
    "axes[1].bar([0, 1], trials(n_samples), label=\"Binomial\")\n",
    "for ax in axes:\n",
    "    ax.legend()"
   ],
   "metadata": {
    "collapsed": false
   },
   "id": "42f0d5a796121689"
  },
  {
   "cell_type": "code",
   "execution_count": 0,
   "outputs": [],
   "source": [
    "# 范畴分布\n",
    "def k_possibilities(k):\n",
    "    \"\"\"\n",
    "    随机产生一组10 维概率向量\n",
    "    \"\"\"\n",
    "    res = np.random.rand(k)\n",
    "    _sum = sum(res)\n",
    "    for i, x in enumerate(res):\n",
    "        res[i] = x / _sum\n",
    "    return res\n",
    "\n",
    "fig, axes = plt.subplots(1, 2, figsize=(10, 3))\n",
    "# 一次试验， 范畴分布\n",
    "k, n_samples = 10, 1\n",
    "samples = np.random.multinomial(n_samples, k_possibilities(k)) # 各维度“成功”的次数\n",
    "axes[0].bar(range(len(samples)), samples/n_samples, label=\"Multinoulli\")\n",
    "# n 次试验， 多项分布\n",
    "n_samples = 1000\n",
    "samples = np.random.multinomial(n_samples, k_possibilities(k))\n",
    "axes[1].bar(range(len(samples)), samples/n_samples, label=\"Multinomial\")\n",
    "for ax in axes:\n",
    "    ax.legend()"
   ],
   "metadata": {
    "collapsed": false
   },
   "id": "cd0f74057dccc6e8"
  },
  {
   "cell_type": "code",
   "execution_count": 0,
   "outputs": [],
   "source": [
    "# 高斯分布、正态分布\n",
    "from scipy.stats import norm\n",
    "fig, axes = plt.subplots(1, 2, figsize=(10, 3)) # 画布\n",
    "mu, sigma = 0, 1\n",
    "X = norm(mu, sigma) # 标准正态分布\n",
    "plot_distribution(X, axes=axes)"
   ],
   "metadata": {
    "collapsed": false
   },
   "id": "218ba763e8e4718c"
  },
  {
   "cell_type": "code",
   "execution_count": 0,
   "outputs": [],
   "source": [
    "# 多元高斯分布、正态分布\n",
    "from scipy.stats import multivariate_normal\n",
    "import matplotlib.pyplot as plt\n",
    "x, y = np.mgrid[-1:1:.01, -1:1:.01]\n",
    "pos = np.dstack((x, y))\n",
    "fig = plt.figure(figsize=(4,4))\n",
    "axes = fig.add_subplot(111)\n",
    "mu = [0.5, -0.2] # 均值\n",
    "sigma = [[2.0, 0.3], [0.3, 0.5]] # 协方差矩阵\n",
    "X = multivariate_normal(mu, sigma)\n",
    "axes.contourf(x, y, X.pdf(pos))"
   ],
   "metadata": {
    "collapsed": false
   },
   "id": "4c92c6b4134c5db"
  },
  {
   "cell_type": "code",
   "execution_count": 0,
   "outputs": [],
   "source": [
    "# 指数分布\n",
    "from scipy.stats import expon\n",
    "fig, axes = plt.subplots(1, 2, figsize=(10, 3))\n",
    "# 定义scale = 1 / lambda\n",
    "X = expon(scale=1)\n",
    "plot_distribution(X, axes=axes)"
   ],
   "metadata": {
    "collapsed": false
   },
   "id": "8ec8e6025d6697d8"
  },
  {
   "cell_type": "code",
   "execution_count": 0,
   "outputs": [],
   "source": [
    "# 拉普拉斯分布\n",
    "from scipy.stats import laplace\n",
    "fig, axes = plt.subplots(1, 2, figsize=(10, 3))\n",
    "mu, gamma = 0, 1\n",
    "X = laplace(loc=mu, scale=gamma)\n",
    "plot_distribution(X, axes=axes)"
   ],
   "metadata": {
    "collapsed": false
   },
   "id": "c8bf53842d8d6334"
  },
  {
   "cell_type": "code",
   "execution_count": 0,
   "outputs": [],
   "source": [
    "# 常见函数的有用性质\n",
    "# sigmoid 函数和 softplus 函数\n",
    "x = np.linspace(-10, 10, 100)\n",
    "sigmoid = 1/(1 + np.exp(-x))\n",
    "softplus = np.log(1 + np.exp(x))\n",
    "fig, axes = plt.subplots(1, 2, figsize=(10, 3))\n",
    "axes[0].plot(x, sigmoid, label='sigmoid')\n",
    "axes[1].plot(x, softplus, label='softplus')\n",
    "for ax in axes:\n",
    "    ax.legend()"
   ],
   "metadata": {
    "collapsed": false
   },
   "id": "93978813c1f2ed76"
  },
  {
   "cell_type": "markdown",
   "source": [
    "## 信息论\n",
    "# 信息论背后的思想：一个不太可能的事件可能比一个可能的事件更加有信息量\n",
    "# 信息需要满足三个条件：\n",
    "# • 比较可能发生的事件的信息量要少。\n",
    "# • 比较不可能发生的事件的信息量要大。\n",
    "# • 独立发生的事件之间的信息量应该是可以叠加的。例如，投掷的硬币两次正面朝上传递的信息量，应该是投掷⼀次硬币正面朝上的信息量的两倍。\n",
    "\n",
    "# 自信息\n",
    "# 自信息(Self-Information)：对事件x = x，我们定义：\n",
    "# I(x) = - log P(x)\n",
    "# 自信息满足上面三个条件，单位是奈特(nats) （底为e）\n",
    "\n",
    "# 香农熵(Shannon Entropy)：上述的自信息只包含⼀个事件的信息，而对于整个概率分布P，不确定性可以这样衡量：\n",
    "# $E_{x~P} [I (x)] = - E_{x~P} [log P (x)]$\n",
    "# 也可以表示成H(P)。香农熵是编码原理中最优编码长度。\n",
    "\n",
    "# 多个随机变量：\n",
    "# • 联合熵(Joint Entropy)：表示同时考虑多个事件的条件下（即考虑联合分布概率）的熵。\n",
    "# $H(X;Y) = Σ_{x;y} P(x;y) | log (P(x;y))$\n",
    "# • 条件熵(Conditional Entropy)：表示某件事情已经发生的情况下，另外一件事情的熵。\n",
    "# $H(X|Y) = - Σ_y P(y) Σ_x P(x|y) log(P(x|y))$\n",
    "# • 互信息(Mutual Information)：表示两个事件的信息相交的部分。\n",
    "# $I(X;Y) = H(X) + H(Y) − H(X;Y)$\n",
    "# • 信息变差(Variation of Information)：表示两个事件的信息不相交的部分。\n",
    "# $V(X;Y) = H(X;Y) − I(X;Y)$"
   ],
   "metadata": {
    "collapsed": false
   },
   "id": "d507cace4f46272d"
  },
  {
   "cell_type": "code",
   "execution_count": 0,
   "outputs": [],
   "source": [
    "p = np.linspace(1e-6,1-1e-6,100)\n",
    "entropy = (p-1)*np.log(1-p)-p*np.log(p)\n",
    "plt.figure(figsize=(4,4))\n",
    "plt.plot(p,entropy)\n",
    "plt.xlabel('p')\n",
    "plt.ylabel('Shannon entropy in nats')\n",
    "plt.show()"
   ],
   "metadata": {
    "collapsed": false
   },
   "id": "647449a03f09336f"
  },
  {
   "cell_type": "code",
   "execution_count": 0,
   "outputs": [],
   "source": [
    "# 最优编码长度\n",
    "def H(sentence):\n",
    "    \"\"\"\n",
    "    最优编码长度\n",
    "    \"\"\"\n",
    "    entropy = 0\n",
    "    # 这里有 256 个可能的ASCII 符号\n",
    "    for character_i in range(256):\n",
    "        Px = sentence.count(chr(character_i))/len(sentence)\n",
    "    if Px > 0:\n",
    "        entropy += -Px * math.log(Px,2) # 注:log 以2 为底\n",
    "    return entropy\n",
    "\n",
    "import random\n",
    "import math\n",
    "# 只用 64 个字符\n",
    "simple_message = \"\".join([chr(random.randint(0,64)) for i in range(500)])\n",
    "print(simple_message)\n",
    "H(simple_message)"
   ],
   "metadata": {
    "collapsed": false
   },
   "id": "5bb4263c666f0db5"
  },
  {
   "cell_type": "markdown",
   "source": [
    "# KL 散度 (Kullback-Leibler Divergence) 用于衡量两个分布 P(x) 和 Q(x) 之间的差距：\n",
    "$ D_{KL} (P||Q) = E_{x \\sim P} [ \\log{\\frac{P(x)}{Q(x)}}] = E_{x \\sim P} [ \\log{P(x)} - \\log {{Q(x)}] $\n",
    "注意$D_{KL}(P||Q) \\ne DKL(Q||P)$，不满足对称性。\n",
    "\n",
    "# 交叉熵(Cross Entropy)：\n",
    "$H(P;Q) = H(P) + D_{KL}(P||Q) = -E_{x \\sim P}[log Q(x)]$"
   ],
   "metadata": {
    "collapsed": false
   },
   "id": "c22da2205e275f1a"
  },
  {
   "cell_type": "code",
   "execution_count": 4,
   "outputs": [
    {
     "name": "stdout",
     "output_type": "stream",
     "text": [
      "True\n"
     ]
    }
   ],
   "source": [
    "# KL 定义\n",
    "from scipy.stats import entropy # 内置kl\n",
    "def kl(p, q):\n",
    "    \"\"\"\n",
    "    D(P || Q)\n",
    "    \"\"\"\n",
    "    p = np.asarray(p, dtype=np.float64)\n",
    "    q = np.asarray(q, dtype=np.float64)\n",
    "    return np.sum(np.where(p != 0, p * np.log(p / q), 0))\n",
    "# 测试\n",
    "p = [0.1, 0.9]\n",
    "q = [0.1, 0.9]\n",
    "print(entropy(p, q) == kl(p, q))"
   ],
   "metadata": {
    "collapsed": false,
    "ExecuteTime": {
     "end_time": "2024-04-18T07:01:55.602144700Z",
     "start_time": "2024-04-18T07:01:55.593146600Z"
    }
   },
   "id": "5e09f81422c39b46"
  },
  {
   "cell_type": "code",
   "execution_count": 9,
   "outputs": [
    {
     "data": {
      "text/plain": "<Figure size 1000x300 with 2 Axes>",
      "image/png": "[encoded data removed]"
     },
     "metadata": {},
     "output_type": "display_data"
    }
   ],
   "source": [
    "# D(P||Q) 与D(Q||P) 比较\n",
    "from scipy.stats import norm\n",
    "x = np.linspace(1, 8, 500)\n",
    "y1 = norm.pdf(x, 3, 0.5)\n",
    "y2 = norm.pdf(x, 6, 0.5)\n",
    "p = y1 + y2 # 构造p(x)\n",
    "KL_pq, KL_qp = [], []\n",
    "q_list = []\n",
    "for mu in np.linspace(0, 10, 50):\n",
    "    for sigma in np.linspace(0.1, 5, 50): # 寻找最优q(x)\n",
    "        q = norm.pdf(x, mu, sigma)\n",
    "        q_list.append(q)\n",
    "        KL_pq.append(entropy(p, q))\n",
    "        KL_qp.append(entropy(q, p))\n",
    "        \n",
    "KL_pq_min = np.argmin(KL_pq)\n",
    "KL_qp_min = np.argmin(KL_qp)\n",
    "fig, axes = plt.subplots(1, 2, figsize=(10, 3))\n",
    "axes[0].set_ylim(0, 0.8)\n",
    "axes[0].plot(x, p/2, 'b', label='$p(x)$')\n",
    "axes[0].plot(x, q_list[KL_pq_min], 'g--', label='$q^*(x)$')\n",
    "axes[0].set_xlabel('$x$')\n",
    "axes[0].set_ylabel('$p(x)$')\n",
    "axes[0].set_title('$q^*= {arg\\min}_ q D_{KL}(p||q)$')\n",
    "axes[1].set_ylim(0, 0.8)\n",
    "axes[1].plot(x, p/2, 'b', label='$p(x)$')\n",
    "axes[1].plot(x, q_list[KL_qp_min], 'g--', label='$q^*(x)$')\n",
    "axes[1].set_xlabel('$x$')\n",
    "axes[1].set_ylabel('$p(x)$')\n",
    "axes[1].set_title('$q^*= {arg\\min}_ q D_{KL}(q||p)$')\n",
    "for ax in axes:\n",
    "    ax.legend(loc='upper right')"
   ],
   "metadata": {
    "collapsed": false,
    "ExecuteTime": {
     "end_time": "2024-04-18T07:05:55.450646300Z",
     "start_time": "2024-04-18T07:05:54.332511800Z"
    }
   },
   "id": "886a9adcb7f5d9a2"
  },
  {
   "cell_type": "markdown",
   "source": [
    "有向无环图可以由如下 3 种元结构构成：\n",
    "• 同父结构。例如在上图中，若不考虑节点 a ，则 c 和 d 有同一父节点 b，于是P(b,c,d) = P(b)P(c|b)P(d|b)。\n",
    "•  V 型结构。例如在上图中，若不考虑节点 a 到 b 的依赖关系，则P(a,b,c) = P(a)P(b)P(c|a,b)。\n",
    "• 顺序结构。例如在上图中，若仅考虑节点 a、b、d，则有P(a,b,d) = P(a)P(b|a)P(d|b)。\n",
    "\n",
    "贝叶斯网的独立性：\n",
    "局部独立性：\n",
    "    给定父节点条件下，每个节点都独立于他的非后代节点。\n",
    "        例如：给定父节点 c 时， e 与网中其他节点条件独立。\n",
    "全局独立性：\n",
    "    d - 分离是用来判断变量是否条件独立的图形化方法。\n",
    "        1. tail-to-tail\n",
    "            a <- c -> b\n",
    "            可以得知，$P(a,b,c) = P(a|c)P(b|c)P(c)$\n",
    "            若 c 不作为观察点，可得 $P(a,b) = \\Sigma_{c} P(a|c) P(b|c) P(c) \\ne P(a)P(b)$，于是 a 和 b 不是 c 条件独立的。\n",
    "            若 c 作为观察点，可得 $P(a,b|c) = \\frac{P(a,b,c)}{P(c)} = P(a|c) P(b|c)，于是 a 和 b 是 c 条件下独立的。\n",
    "        2. head-to-tail\n",
    "            a -> c -> b\n",
    "            可以得知， $P(a,b,c) = P(b|c)P(c|a)P(a)$。\n",
    "            若 c 不作为观察点，可得 $P(a,b) = P(a) \\Sigma_{c} P(c|a)P(b|c) = P(a)P(b|a)$，于是 a 和 b 不是 c 条件独立的。\n",
    "            若 c 作为观察点，可得 $P(a,b|c) = \\frac{P(a,b,c)}{P(c)} = \\frac{P(a)P(c|a)P(b|c)}{P(c)} = P(a|c)P(b|c)$，于是 a 和 b 是 c 条件下独立的。\n",
    "        3. head-to-head\n",
    "            a -> c <- b\n",
    "            可以得知，$P(a,b,c) = P(a)P(b)P(c|a,b)$。\n",
    "            若 c 不作为观察点，可得 $P(a,b) = P(a)P(b) \\Sigma_{c} P(c|a,b) = P(a)P(b)$，于是 a 和 b 是 c 条件独立的。\n",
    "            若 c 作为观察点，可得 $P(a,b|c) = \\frac{P(a,b,c)}{P(c)} = \\frac{P(a)P(b)P(c|a,b)}{P(c)} \\ne P(a|c)P(b|c)$，于是 a 和 b 不是 c 条件下独立的。\n",
    "            \n",
    "从而我们考虑复杂的有向无环图（DAG），如果 A,B,C 是三个集合，可以是单独的节点或者是节点的集合。为了判断 A 和 B 是否是 C 条件独立的，我们考虑图中所有 A 和 B 之间的路径。对于其中的一条路径，如果它满足以下两个条件中的任意一条，则称这条路径是阻塞（Block）的：\n",
    "    1. 路径中存在某个节点 X 是 head-to-tail 或者 tail-to-tail 节点，并且 X 是包含在 C 中的；\n",
    "    2. 路径中存在某个节点 X 是 head-to-head 节点，并且 X 或 X 的儿子是不包含在 C 中的。\n",
    "如果 A，B 间所有的路径都是阻塞的，那么 A，B 就是关于 C 条件独立的；否则 A，B 不是关于 C 条件独立的。\n",
    "\n",
    "\n",
    "\n"
   ],
   "metadata": {
    "collapsed": false
   },
   "id": "9cef0ecfe9e8e434"
  },
  {
   "cell_type": "code",
   "execution_count": 19,
   "outputs": [
    {
     "ename": "ValueError",
     "evalue": "values must be of shape (2, 1). Got shape: (1, 2)",
     "output_type": "error",
     "traceback": [
      "\u001B[1;31m---------------------------------------------------------------------------\u001B[0m",
      "\u001B[1;31mValueError\u001B[0m                                Traceback (most recent call last)",
      "Cell \u001B[1;32mIn[19], line 9\u001B[0m\n\u001B[0;32m      7\u001B[0m model \u001B[38;5;241m=\u001B[39m BayesianNetwork([(\u001B[38;5;124m'\u001B[39m\u001B[38;5;124ma\u001B[39m\u001B[38;5;124m'\u001B[39m, \u001B[38;5;124m'\u001B[39m\u001B[38;5;124mb\u001B[39m\u001B[38;5;124m'\u001B[39m), (\u001B[38;5;124m'\u001B[39m\u001B[38;5;124ma\u001B[39m\u001B[38;5;124m'\u001B[39m, \u001B[38;5;124m'\u001B[39m\u001B[38;5;124mc\u001B[39m\u001B[38;5;124m'\u001B[39m), (\u001B[38;5;124m'\u001B[39m\u001B[38;5;124mb\u001B[39m\u001B[38;5;124m'\u001B[39m, \u001B[38;5;124m'\u001B[39m\u001B[38;5;124mc\u001B[39m\u001B[38;5;124m'\u001B[39m), (\u001B[38;5;124m'\u001B[39m\u001B[38;5;124mb\u001B[39m\u001B[38;5;124m'\u001B[39m, \u001B[38;5;124m'\u001B[39m\u001B[38;5;124md\u001B[39m\u001B[38;5;124m'\u001B[39m), (\u001B[38;5;124m'\u001B[39m\u001B[38;5;124mc\u001B[39m\u001B[38;5;124m'\u001B[39m, \u001B[38;5;124m'\u001B[39m\u001B[38;5;124me\u001B[39m\u001B[38;5;124m'\u001B[39m)])\n\u001B[0;32m      8\u001B[0m \u001B[38;5;66;03m# 最顶层的父节点的概率分布表\u001B[39;00m\n\u001B[1;32m----> 9\u001B[0m cpd_a \u001B[38;5;241m=\u001B[39m \u001B[43mTabularCPD\u001B[49m\u001B[43m(\u001B[49m\u001B[43mvariable\u001B[49m\u001B[38;5;241;43m=\u001B[39;49m\u001B[38;5;124;43m'\u001B[39;49m\u001B[38;5;124;43ma\u001B[39;49m\u001B[38;5;124;43m'\u001B[39;49m\u001B[43m,\u001B[49m\u001B[43m \u001B[49m\u001B[43mvariable_card\u001B[49m\u001B[38;5;241;43m=\u001B[39;49m\u001B[38;5;241;43m2\u001B[39;49m\u001B[43m,\u001B[49m\u001B[43m \u001B[49m\u001B[43mvalues\u001B[49m\u001B[38;5;241;43m=\u001B[39;49m\u001B[43m[\u001B[49m\u001B[43m[\u001B[49m\u001B[38;5;241;43m0.6\u001B[39;49m\u001B[43m,\u001B[49m\u001B[43m \u001B[49m\u001B[38;5;241;43m0.4\u001B[39;49m\u001B[43m]\u001B[49m\u001B[43m]\u001B[49m\u001B[43m)\u001B[49m \u001B[38;5;66;03m# a: (0,1)\u001B[39;00m\n\u001B[0;32m     10\u001B[0m \u001B[38;5;66;03m# 其它各节点的条件概率分布表（行对应当前节点索引，列对应父节点索引）\u001B[39;00m\n\u001B[0;32m     11\u001B[0m cpd_b \u001B[38;5;241m=\u001B[39m TabularCPD(variable\u001B[38;5;241m=\u001B[39m\u001B[38;5;124m'\u001B[39m\u001B[38;5;124mb\u001B[39m\u001B[38;5;124m'\u001B[39m, variable_card\u001B[38;5;241m=\u001B[39m\u001B[38;5;241m2\u001B[39m, \u001B[38;5;66;03m# b: (0,1)\u001B[39;00m\n\u001B[0;32m     12\u001B[0m values\u001B[38;5;241m=\u001B[39m[[\u001B[38;5;241m0.75\u001B[39m, \u001B[38;5;241m0.1\u001B[39m],\n\u001B[0;32m     13\u001B[0m [\u001B[38;5;241m0.25\u001B[39m, \u001B[38;5;241m0.9\u001B[39m]],\n\u001B[0;32m     14\u001B[0m evidence\u001B[38;5;241m=\u001B[39m[\u001B[38;5;124m'\u001B[39m\u001B[38;5;124ma\u001B[39m\u001B[38;5;124m'\u001B[39m],\n\u001B[0;32m     15\u001B[0m evidence_card\u001B[38;5;241m=\u001B[39m[\u001B[38;5;241m2\u001B[39m])\n",
      "File \u001B[1;32mD:\\Arch\\Python\\venv\\lib\\site-packages\\pgmpy\\factors\\discrete\\CPD.py:142\u001B[0m, in \u001B[0;36mTabularCPD.__init__\u001B[1;34m(self, variable, variable_card, values, evidence, evidence_card, state_names)\u001B[0m\n\u001B[0;32m    140\u001B[0m     expected_cpd_shape \u001B[38;5;241m=\u001B[39m (variable_card, np\u001B[38;5;241m.\u001B[39mprod(evidence_card))\n\u001B[0;32m    141\u001B[0m \u001B[38;5;28;01mif\u001B[39;00m values\u001B[38;5;241m.\u001B[39mshape \u001B[38;5;241m!=\u001B[39m expected_cpd_shape:\n\u001B[1;32m--> 142\u001B[0m     \u001B[38;5;28;01mraise\u001B[39;00m \u001B[38;5;167;01mValueError\u001B[39;00m(\n\u001B[0;32m    143\u001B[0m         \u001B[38;5;124mf\u001B[39m\u001B[38;5;124m\"\u001B[39m\u001B[38;5;124mvalues must be of shape \u001B[39m\u001B[38;5;132;01m{\u001B[39;00mexpected_cpd_shape\u001B[38;5;132;01m}\u001B[39;00m\u001B[38;5;124m. Got shape: \u001B[39m\u001B[38;5;132;01m{\u001B[39;00mvalues\u001B[38;5;241m.\u001B[39mshape\u001B[38;5;132;01m}\u001B[39;00m\u001B[38;5;124m\"\u001B[39m\n\u001B[0;32m    144\u001B[0m     )\n\u001B[0;32m    146\u001B[0m \u001B[38;5;28;01mif\u001B[39;00m \u001B[38;5;129;01mnot\u001B[39;00m \u001B[38;5;28misinstance\u001B[39m(state_names, \u001B[38;5;28mdict\u001B[39m):\n\u001B[0;32m    147\u001B[0m     \u001B[38;5;28;01mraise\u001B[39;00m \u001B[38;5;167;01mValueError\u001B[39;00m(\n\u001B[0;32m    148\u001B[0m         \u001B[38;5;124mf\u001B[39m\u001B[38;5;124m\"\u001B[39m\u001B[38;5;124mstate_names must be of type dict. Got \u001B[39m\u001B[38;5;132;01m{\u001B[39;00m\u001B[38;5;28mtype\u001B[39m(state_names)\u001B[38;5;132;01m}\u001B[39;00m\u001B[38;5;124m\"\u001B[39m\n\u001B[0;32m    149\u001B[0m     )\n",
      "\u001B[1;31mValueError\u001B[0m: values must be of shape (2, 1). Got shape: (1, 2)"
     ]
    }
   ],
   "source": [
    "import networkx as nx\n",
    "from pgmpy.models import BayesianNetwork\n",
    "from pgmpy.factors.discrete import TabularCPD\n",
    "import matplotlib.pyplot as plt\n",
    "%matplotlib inline\n",
    "# 建立一个简单贝叶斯模型框架\n",
    "model = BayesianNetwork([('a', 'b'), ('a', 'c'), ('b', 'c'), ('b', 'd'), ('c', 'e')])\n",
    "# 最顶层的父节点的概率分布表\n",
    "cpd_a = TabularCPD(variable='a', variable_card=2, values=[[0.6, 0.4]]) # a: (0,1)\n",
    "# 其它各节点的条件概率分布表（行对应当前节点索引，列对应父节点索引）\n",
    "cpd_b = TabularCPD(variable='b', variable_card=2, # b: (0,1)\n",
    "values=[[0.75, 0.1],\n",
    "[0.25, 0.9]],\n",
    "evidence=['a'],\n",
    "evidence_card=[2])\n",
    "cpd_c = TabularCPD(variable='c', variable_card=3, # c: (0,1,2)\n",
    "values=[[0.3, 0.05, 0.9, 0.5],\n",
    "[0.4, 0.25, 0.08, 0.3],\n",
    "[0.3, 0.7, 0.02, 0.2]],\n",
    "evidence=['a', 'b'],\n",
    "evidence_card=[2, 2])\n",
    "cpd_d = TabularCPD(variable='d', variable_card=2, # d: (0,1)\n",
    "values=[[0.95, 0.2],\n",
    "[0.05, 0.8]],\n",
    "evidence=['b'],\n",
    "evidence_card=[2])\n",
    "cpd_e = TabularCPD(variable='e', variable_card=2, # e: (0,1)\n",
    "values=[[0.1, 0.4, 0.99],\n",
    "[0.9, 0.6, 0.01]],\n",
    "evidence=['c'],\n",
    "evidence_card=[3])\n",
    "# 将各节点的概率分布表加入网络\n",
    "model.add_cpds(cpd_a, cpd_b, cpd_c, cpd_d, cpd_e)\n",
    "# 验证模型数据的正确性\n",
    "print(u\"验证模型数据的正确性:\",model.check_model())\n",
    "# 绘制贝叶斯图(节点+ 依赖关系)\n",
    "nx.draw(model, with_labels=True, node_size=1000, font_weight='bold', node_color='y', \\\n",
    "pos={\"e\":[4,3],\"c\":[4,5],\"d\":[8,5],\"a\":[2,7],\"b\":[6,7]})\n",
    "plt.text(2,7,model.get_cpds(\"a\"), fontsize=10, color='b')\n",
    "plt.text(5,6,model.get_cpds(\"b\"), fontsize=10, color='b')\n",
    "plt.text(1,4,model.get_cpds(\"c\"), fontsize=10, color='b')\n",
    "plt.text(4.2,2,model.get_cpds(\"e\"), fontsize=10, color='b')\n",
    "plt.text(7,3.4,model.get_cpds(\"d\"), fontsize=10, color='b')\n",
    "plt.show()"
   ],
   "metadata": {
    "collapsed": false,
    "ExecuteTime": {
     "end_time": "2024-04-18T09:16:50.012263800Z",
     "start_time": "2024-04-18T09:16:49.963264700Z"
    }
   },
   "id": "d27ba23c501611cf"
  },
  {
   "cell_type": "markdown",
   "source": [
    "## 无向图模型\n",
    "其中，我们将所有节点彼此联通的集合称为团 (Clique, C)，\n",
    "\\Phi 称为因子，每个因子和一个团 C 相对应， Z 是归一化常数。\n",
    "有向图的代表是马尔可夫网。\n",
    "贝叶斯⽹是根据节点依赖关系构成有向⽆环图，进⽽引申出每个节点的条件概率分布来表征其对⽗节点的依赖。但马尔可夫网节点间的依赖关系是\n",
    "无向的（相互平等的关系），⽆法⽤条件概率分布来表⽰，为此为引⼊极大团概念，进⽽为每个极⼤团引⼊⼀个势函数作为因⼦，然后将联合概率分\n",
    "布表⽰成这些因⼦的乘积再归⼀化，归⼀化常数被称作配分函数。\n",
    "团: 假设⼀个特征集的任何两个特征都相互关联，那么这个特征集的联合概率分布是⽆法简化的，我们称这样的特征集为团。\n",
    "极大团: 如果⼀个团不能被其他团包含，那么我们称这个团为极⼤团。\n",
    "\n",
    "## 马尔可夫网的条件独立性\n",
    "前⾯介绍了贝叶斯⽹的元结构及其条件独⽴性，⽽马尔可夫⽹的有向分离，同样能够引出条件独⽴性(相对分离集)，这就是全局马尔可夫性。\n",
    "\n"
   ],
   "metadata": {
    "collapsed": false
   },
   "id": "e09ec539831ea93"
  },
  {
   "cell_type": "code",
   "execution_count": null,
   "outputs": [],
   "source": [
    "import networkx as nx\n",
    "from pgmpy.models import MarkovModel\n",
    "from pgmpy.factors.discrete import DiscreteFactor\n",
    "import matplotlib.pyplot as plt\n",
    "%matplotlib inline\n",
    "# 建立一个简单马尔科夫网\n",
    "model = MarkovModel([('a', 'b'), ('a', 'c'), ('b', 'c'),('b', 'd'), ('c', 'e')])\n",
    "# 各团因子(参数随机选择)\n",
    "factor_abc = DiscreteFactor(['a', 'b', 'c'], cardinality=[2,2,2], values=np.random.rand(8))\n",
    "factor_bd = DiscreteFactor(['b', 'd'], cardinality=[2,2], values=np.random.rand(4))\n",
    "factor_ce = DiscreteFactor(['c', 'e'], cardinality=[2,2], values=np.random.rand(4))\n",
    "# 将各团因子加入网络\n",
    "model.add_factors(factor_abc,factor_bd,factor_ce)\n",
    "# 验证模型数据的正确性\n",
    "print(u\"验证模型数据的正确性:\",model.check_model())\n",
    "# # 绘制贝叶斯图(节点+ 依赖关系)\n",
    "nx.draw(model, with_labels=True, node_size=1000, font_weight='bold', node_color='y', \\\n",
    "pos={\"e\":[4,3],\"c\":[4,5],\"d\":[8,5],\"a\":[2,7],\"b\":[6,7]})\n",
    "plt.text(2,7,model.get_factors()[0], fontsize=10, color='b')\n",
    "plt.text(7,3.4,model.get_factors()[1], fontsize=10, color='b')\n",
    "plt.text(4.2,2,model.get_factors()[2], fontsize=10, color='b')\n",
    "plt.show()"
   ],
   "metadata": {
    "collapsed": false
   },
   "id": "15dce0374af5da34"
  },
  {
   "cell_type": "markdown",
   "source": [
    "# Chapter 3 - 数值计算\n",
    "# 3.1 上溢出和下溢出\n",
    "# 下溢（Underflow）：当接近零的数被四舍五入为零时发生下溢。\n",
    "# 上溢（Overflow）：当大量级的数被近似为 \\infty 或者 - \\infty 时发生上溢。\n",
    "\n",
    "# 必须对上溢和下溢进行数值稳定的一个例子是 softmax 函数，softmax 函数经常用于预测与范畴分布相关联的概率，定义为\n",
    "# $ sofxmax)x_i = \\frac{exp(x_i)}{\\Sigma_{j=1}^{n} exp(x_j)}$"
   ],
   "metadata": {
    "collapsed": false
   },
   "id": "168dc304ba64cded"
  },
  {
   "cell_type": "code",
   "execution_count": 0,
   "outputs": [],
   "source": [
    "import numpy as np\n",
    "import numpy.linalg as la\n",
    "\n",
    "x = np.array([1e7, 1e8, 2e5, 2e7])\n",
    "y = np.exp(x)/sum(np.exp(x))\n",
    "print(\"上溢：\", y)\n",
    "x = x - np.max(x) # 减去最大值\n",
    "y = np.exp(x)/sum(np.exp(x))\n",
    "print(\"上溢处理：\", y)\n",
    "\n",
    "x = np.array([-1e10, -1e9, -2e10, -1e10])\n",
    "y = np.exp(x)/sum(np.exp(x))\n",
    "print(\"下溢：\", y)\n",
    "x = x - np.max(x) # 减去最大值\n",
    "y = np.exp(x)/sum(np.exp(x))\n",
    "print(\"下溢处理：\", y)\n",
    "print(\"log softmax(x):\", np.log(y))\n",
    "# 对log softmax 下溢的处理：\n",
    "def logsoftmax(x):\n",
    "    y = x - np.log(sum(np.exp(x)))\n",
    "    return y\n",
    "print(\"logsoftmax(x):\", logsoftmax(x))"
   ],
   "metadata": {
    "collapsed": false
   },
   "id": "670e5376f8d6e368"
  },
  {
   "cell_type": "markdown",
   "source": [
    "# 3.2 优化方法\n",
    "# 3.2.1 梯度下降法\n",
    "# 梯度下降法或最速下降法的目标函数是最小化具有多维输入的函数：\n",
    "# $f : \\mathbb{R}^n \\rightarrow \\mathbb{R} $。\n",
    "# 梯度下降法建议新的点为：\n",
    "# $ x' = x - \\epsilon \\nabla_x f(x) $\n",
    "# 其中 $\\epsilon$ 为学习率，是一个确定步长大小的正的标量。\n",
    "\n",
    "# $f(x) = \\frac{1}{2} \\Vert{\\textbf{Ax \\minus b}\\Vert}^2_2$\n",
    "# $\\nabla_x f(x) = \\textbf{A}^T(\\textbf{Ax \\minus b}) = \\textbf{A}^T\\textbf{Ax \\minus A}^T\\textbf{b}$\n"
   ],
   "metadata": {
    "collapsed": false
   },
   "id": "9c4f731b13ccdeb"
  },
  {
   "cell_type": "code",
   "execution_count": 0,
   "outputs": [],
   "source": [
    "x0 = np.array([1.0, 1.0, 1.0])\n",
    "A = np.array([[1.0, -2.0, 1.0], [0.0, 2.0, -8.0], [-4.0, 5.0, 9.0]])\n",
    "b = np.array([0.0, 8.0, -9.0])\n",
    "epsilon = 0.001\n",
    "delta = 1e-3\n",
    "# 给定A，b，真正的解x 为[29, 16, 3]\n",
    "\n",
    "\"\"\"\n",
    "梯度下降法\n",
    "\"\"\"\n",
    "def matmul_chain(*args):\n",
    "    if len(args) == 0: return np.nan\n",
    "    result = args[0]\n",
    "    for x in args[1:]:\n",
    "        result = result@x\n",
    "    return result\n",
    "def gradient_decent(x, A, b, epsilon, delta):\n",
    "    while la.norm(matmul_chain(A.T, A, x)-matmul_chain(A.T, b)) > delta:\n",
    "        x -= epsilon*(matmul_chain(A.T, A, x)-matmul_chain(A.T, b))\n",
    "    return x\n",
    "gradient_decent(x0, A, b, epsilon, delta)"
   ],
   "metadata": {
    "collapsed": false
   },
   "id": "c27762da733856dc"
  },
  {
   "cell_type": "markdown",
   "source": [
    "# 牛顿法\n",
    "# 牛顿法基于一个二阶泰勒展开来近似$x^{(0)}$附近的$f(x)$：\n",
    "# 接着通过计算，我们可以得到这个函数的临界点：\n",
    "# $x^{\\ast} = x^{(0)} \\minus \\mathrm{H}(x^{(0)})^{-1} \\nabla_x f(x^{(0)}) $\n",
    "# ⽜顿法迭代地更新近似函数和跳到近似函数的最⼩点可以⽐梯度下降法更快地到达临界点。这在接近全局极⼩时是⼀个特别有⽤的性质，但是在鞍点附近是有害的。\n",
    "# $H = \\mathbf{A}^T \\mathbf{A} $\n",
    "# $x^{\\ast} = (\\mathbf{A}^T \\mathbf{A})^{-1} \\mathbf{A}^T \\mathbf{b} $"
   ],
   "metadata": {
    "collapsed": false
   },
   "id": "411399a5605d8cf9"
  },
  {
   "cell_type": "code",
   "execution_count": 7,
   "outputs": [
    {
     "data": {
      "text/plain": "array([29., 16.,  3.])"
     },
     "execution_count": 7,
     "metadata": {},
     "output_type": "execute_result"
    }
   ],
   "source": [
    "\"\"\"\n",
    "牛顿法\n",
    "\"\"\"\n",
    "def matmul_chain(*args):\n",
    "    if len(args) == 0: return np.nan\n",
    "    result = args[0]\n",
    "    for x in args[1:]:\n",
    "        result = result@x\n",
    "    return result\n",
    "def newton(x, A, b, delta):\n",
    "    x = matmul_chain(np.linalg.inv(matmul_chain(A.T, A)), A.T, b)\n",
    "    return x\n",
    "newton(x0, A, b, delta)"
   ],
   "metadata": {
    "collapsed": false,
    "ExecuteTime": {
     "end_time": "2024-04-18T12:58:05.884944400Z",
     "start_time": "2024-04-18T12:58:05.829937300Z"
    }
   },
   "id": "4e0344d0be8b16ca"
  },
  {
   "cell_type": "markdown",
   "source": [
    "# 3.2.3 约束优化\n",
    "# 为每个约束引入新的变量 $\\lambda_i$ 和 $\\alpha_j$， 这些新变量被称为 KKT 乘子。广义 Lagrange 式可以如下定义：\n",
    "# $$ L(x, \\lambda, \\alpha) = f(x) + \\Sigma_i \\lambda_i g^{(i)}(x) + \\Sigma_j \\alpha_j h^{(j)}(x) $$\n",
    "# 使得解决约束最小化问题：\n",
    "# $$\\min_x{\\max_\\lambda{\\max_{\\alpha, \\alpha \\ge 0 } {L(x, \\lambda, \\alpha)}}}$$"
   ],
   "metadata": {
    "collapsed": false
   },
   "id": "3fcecb6d12cbbbfb"
  },
  {
   "cell_type": "code",
   "execution_count": null,
   "outputs": [],
   "source": [
    "\"\"\"\n",
    "约束优化，约束解的大小\n",
    "\"\"\"\n",
    "def matmul_chain(*args):\n",
    "    if len(args) == 0: return np.nan\n",
    "    result = args[0]\n",
    "    for x in args[1:]:\n",
    "        result = result@x\n",
    "    return result\n",
    "def constrain_opti(x, A, b, delta):\n",
    "    k = len(x)\n",
    "    lamb = 0\n",
    "    while np.abs(np.dot(x.T, x)-1) > 5e-2: # delta 设为5e-2，最优设为0\n",
    "        x = matmul_chain(np.linalg.inv(matmul_chain(A.T, A)+2*lamb*np.identity(k)), A.T, b)\n",
    "        lamb += np.dot(x.T, x)-1\n",
    "    return x\n",
    "constrain_opti(x0, A, b, delta)"
   ],
   "metadata": {
    "collapsed": false
   },
   "id": "3ab2e0e39a1f7490"
  },
  {
   "cell_type": "markdown",
   "source": [
    "# Chapter 4 - 机器学习基础\n",
    "# 4.1 学习算法\n",
    "# 机器学习算法描述⼀种能够从数据中学习的算法。学习指对于某类任务 T，为其定义性能度量 P，⼀个计算机程序被认为可以从经验 E 中学习是指：\n",
    "# 通过经验 E 改进后，它在任务 T 上的性能度量 P 有所提高。\n",
    "# 任务 T：机器学习任务定义为机器学习系统应该如何处理样本（Example）。例如，识别⼿写体数字识别的任务为：通过将输⼊的图⽚处理后，输出\n",
    "# 该图⽚对应的数字（分类）。样本是量化的特征（Feature）的集合，⽤向量 x 表⽰，其中向量的每个元素xi 是⼀个特征。例如⼀张图⽚的特征就是这张图⽚⾥的像素点的值。\n",
    "# 性能度量P：为了评估机器学习的优劣，需要对算法的输出结果进⾏定量的衡量分析，这就需要合适的性能度量指标。"
   ],
   "metadata": {
    "collapsed": false
   },
   "id": "4dfb2d15dbae3ad5"
  },
  {
   "cell_type": "code",
   "execution_count": 10,
   "outputs": [
    {
     "name": "stdout",
     "output_type": "stream",
     "text": [
      "Weight:[array([1.49333333]), array([0.04966667])]\n"
     ]
    },
    {
     "data": {
      "text/plain": "<Figure size 400x400 with 1 Axes>",
      "image/png": "[encoded data removed]"
     },
     "metadata": {},
     "output_type": "display_data"
    }
   ],
   "source": [
    "import numpy as np\n",
    "import math\n",
    "import matplotlib.pyplot as plt\n",
    "X = np.hstack((np.array([[-0.5,-0.45,-0.35,-0.35,-0.1,0,0.2,0.25,0.3,0.5]]).reshape(-1, 1), np.ones((10,1))*1))\n",
    "y = np.array([-0.2,0.1,-1.25,-1.2,0,0.5,-0.1,0.2,0.5,1.2]).reshape(-1,1)\n",
    "# 用公式求权重\n",
    "w = np.linalg.inv(X.T.dot(X)).dot(X.T).dot(y)\n",
    "hat_y = X.dot(w)\n",
    "print(\"Weight:{}\".format(list(w)))\n",
    "x = np.linspace(-1, 1, 50)\n",
    "hat_y = x * w[0] + w[1]\n",
    "plt.figure(figsize=(4,4))\n",
    "plt.xlim(-1.0, 1.0)\n",
    "plt.xticks(np.linspace(-1.0, 1.0, 5))\n",
    "plt.ylim(-3, 3)\n",
    "plt.plot(x, hat_y, color='red')\n",
    "plt.scatter(X[:,0], y[:,0], color='black')\n",
    "plt.xlabel('$x_1$')\n",
    "plt.ylabel('$y$')\n",
    "plt.title('$Linear Regression$')\n",
    "plt.show()"
   ],
   "metadata": {
    "collapsed": false,
    "ExecuteTime": {
     "end_time": "2024-04-18T13:23:26.144010Z",
     "start_time": "2024-04-18T13:23:24.824357700Z"
    }
   },
   "id": "f59b1e41bdeb5a52"
  },
  {
   "cell_type": "markdown",
   "source": [
    "# 4.2 容量、过拟合、欠拟合\n",
    "# 4.2.1 泛化问题\n",
    "# 机器学习的主要挑战在于在未见过的数据输入上表现良好，这个能⼒称为泛化能⼒(Generalization)。我们量化⼀下模型在训练集和测试集上的表现，将其分别称为训练误差(Training Error) 和测试误差(Test Error)，后者也经常称为泛化误差(Generalization Error)。可以说，理想的模型就是在最小化训练误差的同时，最小化泛化误差，具有良好泛化能⼒的算法才是符合需求的。\n",
    "# 在实际的应⽤过程中，会采样两个数据集，减⼩训练误差得到参数后，再在测试集中验证。这个过程中，就会发⽣测试误差的期望⼤于训练误差的期望的情况。以下是决定机器学习算法效果是否好的因素：\n",
    "# • 降低训练误差。\n",
    "# • 缩⼩训练误差与测试误差之间的差距。"
   ],
   "metadata": {
    "collapsed": false
   },
   "id": "24046b57a378e188"
  },
  {
   "cell_type": "code",
   "execution_count": null,
   "outputs": [],
   "source": [
    "def KFoldCV(D, A, k):\n",
    "    \"\"\"\n",
    "    k-fold 交叉验证\n",
    "    参数说明：\n",
    "    D：给定数据集\n",
    "    A：学习函数\n",
    "    k：折数\n",
    "    \"\"\"\n",
    "    np.random.shuffle(D)\n",
    "    dataset = np.split(D, k)\n",
    "    acc_rate = 0\n",
    "    for i in range(k):\n",
    "        train_set = dataset.copy()\n",
    "        test_set = train_set.pop(i)\n",
    "        train_set = np.vstack(train_set)\n",
    "        A.train(train_set[:,:-1], train_set[:,-1]) # 每次的训练集\n",
    "        labels = A.fit(test_set[:,:-1]) # 每次的测试集\n",
    "        acc_rate += np.mean(labels==test_set[:,-1]) # 计算平均误差\n",
    "    return acc_rate/k"
   ],
   "metadata": {
    "collapsed": false
   },
   "id": "6802fcea87f4a61e"
  },
  {
   "cell_type": "code",
   "execution_count": 11,
   "outputs": [],
   "source": [
    "# 朴素贝叶斯自定义实现\n",
    "class NaiveBayes():\n",
    "    \n",
    "    def __init__(self):\n",
    "        self.parameters = [] # 保存每个特征针对每个类的均值和方差\n",
    "        self.y = None\n",
    "        self.classes = None\n",
    "        \n",
    "    def fit(self, X, y):\n",
    "        self.y = y\n",
    "        self.classes = np.unique(y) # 类别\n",
    "        # 计算每个特征针对每个类的均值和方差\n",
    "        for i, c in enumerate(self.classes):\n",
    "            # 选择类别为c 的X\n",
    "            X_where_c = X[np.where(self.y == c)]\n",
    "            self.parameters.append([])\n",
    "            # 添加均值与方差\n",
    "            for col in X_where_c.T:\n",
    "                parameters = {\"mean\": col.mean(), \"var\": col.var()}\n",
    "                self.parameters[i].append(parameters)\n",
    "                \n",
    "    def _calculate_prior(self, c):\n",
    "        \"\"\"\n",
    "        先验函数。\n",
    "        \"\"\"\n",
    "        frequency = np.mean(self.y == c)\n",
    "        return frequency\n",
    "    \n",
    "    def _calculate_likelihood(self, mean, var, X):\n",
    "        \"\"\"\n",
    "        似然函数。\n",
    "        \"\"\"\n",
    "        # 高斯概率\n",
    "        eps = 1e-4 # 防止除数为0\n",
    "        coeff = 1.0 / math.sqrt(2.0 * math.pi * var + eps)\n",
    "        exponent = math.exp(-(math.pow(X - mean, 2) / (2 * var + eps)))\n",
    "        return coeff * exponent\n",
    "    \n",
    "    def _calculate_probabilities(self, X):\n",
    "        posteriors = []\n",
    "        for i, c in enumerate(self.classes):\n",
    "            posterior = self._calculate_prior(c)\n",
    "            for feature_value, params in zip(X, self.parameters[i]):\n",
    "                # 独立性假设\n",
    "                # P(x1,x2|Y) = P(x1|Y)*P(x2|Y)\n",
    "                likelihood = self._calculate_likelihood(params[\"mean\"], params[\"var\"], feature_value)\n",
    "                posterior *= likelihood\n",
    "            posteriors.append(posterior)\n",
    "        # 返回具有最大后验概率的类别\n",
    "        return self.classes[np.argmax(posteriors)]\n",
    "    def predict(self, X):\n",
    "        y_pred = [self._calculate_probabilities(sample) for sample in X]\n",
    "        return y_pred\n",
    "    def score(self, X, y):\n",
    "        y_pred = self.predict(X)\n",
    "        accuracy = np.sum(y == y_pred, axis=0) / len(y)\n",
    "        return accuracy"
   ],
   "metadata": {
    "collapsed": false,
    "ExecuteTime": {
     "end_time": "2024-04-18T14:13:11.691437100Z",
     "start_time": "2024-04-18T14:13:11.652339900Z"
    }
   },
   "id": "96820e267e49d896"
  },
  {
   "cell_type": "code",
   "execution_count": 15,
   "outputs": [
    {
     "name": "stdout",
     "output_type": "stream",
     "text": [
      "[5.4 3.9 1.7 0.4] 0.0\n"
     ]
    }
   ],
   "source": [
    "# 用自定义贝叶斯估计，iris 数据集测试\n",
    "import pandas as pd\n",
    "from sklearn.datasets import load_iris\n",
    "from sklearn.model_selection import train_test_split\n",
    "\n",
    "def create_data():\n",
    "    iris = load_iris()\n",
    "    df = pd.DataFrame(iris.data, columns=iris.feature_names)\n",
    "    df['label'] = iris.target\n",
    "    df.columns = ['sepal length', 'sepal width', 'petal length', 'petal width', 'label']\n",
    "    data = np.array(df.iloc[:100, :])\n",
    "    return data[:,:-1], data[:,-1]\n",
    "X, y = create_data()\n",
    "X_train, X_test, y_train, y_test = train_test_split(X, y, test_size=0.3)\n",
    "print(X_train[0], y_train[0])"
   ],
   "metadata": {
    "collapsed": false,
    "ExecuteTime": {
     "end_time": "2024-04-18T14:13:49.062931600Z",
     "start_time": "2024-04-18T14:13:49.040307700Z"
    }
   },
   "id": "54aee8032d344183"
  },
  {
   "cell_type": "code",
   "execution_count": 16,
   "outputs": [
    {
     "name": "stdout",
     "output_type": "stream",
     "text": [
      "1.0\n"
     ]
    }
   ],
   "source": [
    "model = NaiveBayes()\n",
    "model.fit(X_train, y_train)\n",
    "print(model.score(X_test, y_test))"
   ],
   "metadata": {
    "collapsed": false,
    "ExecuteTime": {
     "end_time": "2024-04-18T14:16:40.062202500Z",
     "start_time": "2024-04-18T14:16:40.004313600Z"
    }
   },
   "id": "b6094349d7e7e1ff"
  },
  {
   "cell_type": "code",
   "execution_count": 17,
   "outputs": [
    {
     "name": "stdout",
     "output_type": "stream",
     "text": [
      "1.0\n"
     ]
    }
   ],
   "source": [
    "# 用 sklearn 实现贝叶斯估计，iris 数据集测试\n",
    "# 从 sklearn 包中调用 GaussianNB 实现贝叶斯估计\n",
    "from sklearn.naive_bayes import GaussianNB\n",
    "skl_model = GaussianNB()\n",
    "skl_model.fit(X_train, y_train)\n",
    "print(skl_model.score(X_test, y_test))"
   ],
   "metadata": {
    "collapsed": false,
    "ExecuteTime": {
     "end_time": "2024-04-18T14:16:48.988135Z",
     "start_time": "2024-04-18T14:16:48.929054700Z"
    }
   },
   "id": "a18eb8aaf4e5cf83"
  },
  {
   "cell_type": "markdown",
   "source": [
    "# 4.8 监督学习方法\n"
   ],
   "metadata": {
    "collapsed": false
   },
   "id": "3a5f098879ddf5c6"
  },
  {
   "cell_type": "code",
   "execution_count": 22,
   "outputs": [
    {
     "data": {
      "text/plain": "<matplotlib.collections.PathCollection at 0x2a0c97a1000>"
     },
     "execution_count": 22,
     "metadata": {},
     "output_type": "execute_result"
    },
    {
     "data": {
      "text/plain": "<Figure size 640x480 with 1 Axes>",
      "image/png": "[encoded data removed]"
     },
     "metadata": {},
     "output_type": "display_data"
    }
   ],
   "source": [
    "# 自定义实现\n",
    "def Sigmoid(x):\n",
    "    return 1/(1 + np.exp(-x))\n",
    "\n",
    "# Logistic 回归\n",
    "class LogisticRegression():\n",
    "    \n",
    "    def __init__(self, learning_rate=.1):\n",
    "        self.param = None\n",
    "        self.learning_rate = learning_rate\n",
    "        self.sigmoid = Sigmoid\n",
    "        \n",
    "    def _initialize_parameters(self, X):\n",
    "        n_features = np.shape(X)[1]\n",
    "        # 初始化参数theta， [-1/sqrt(N), 1/sqrt(N)]\n",
    "        limit = 1 / math.sqrt(n_features)\n",
    "        self.param = np.random.uniform(-limit, limit, (n_features,))\n",
    "        \n",
    "    def fit(self, X, y, n_iterations=4000):\n",
    "        self._initialize_parameters(X)\n",
    "        # 参数theta 的迭代更新\n",
    "        for i in range(n_iterations):\n",
    "            # 求预测\n",
    "            y_pred = self.sigmoid(X.dot(self.param))\n",
    "            # 最小化损失函数，参数更新公式\n",
    "            self.param -= self.learning_rate * -(y - y_pred).dot(X)\n",
    "        \n",
    "    def predict(self, X):\n",
    "        y_pred = self.sigmoid(X.dot(self.param))\n",
    "        return y_pred\n",
    "    \n",
    "    def score(self, X, y):\n",
    "        y_pred = self.predict(X)\n",
    "        accuracy = np.sum(y == y_pred, axis=0) / len(y)\n",
    "        return accuracy \n",
    "    \n",
    "# 二分类问题，生成数据\n",
    "n_samples = 100\n",
    "np.random.seed(0)\n",
    "x = np.random.normal(size=n_samples)\n",
    "y = (x > 0).astype(np.float64)\n",
    "x[x > 0] *= 4\n",
    "x += .3 * np.random.normal(size=n_samples)\n",
    "x = x[:, np.newaxis] # 输入增加一维，用于与theta_0 结合\n",
    "plt.scatter(x, y, color='black')"
   ],
   "metadata": {
    "collapsed": false,
    "ExecuteTime": {
     "end_time": "2024-04-18T14:26:28.911244800Z",
     "start_time": "2024-04-18T14:26:28.809975300Z"
    }
   },
   "id": "7517bf3550cb68f5"
  },
  {
   "cell_type": "code",
   "execution_count": 24,
   "outputs": [
    {
     "data": {
      "text/plain": "<matplotlib.legend.Legend at 0x2a0c97feaa0>"
     },
     "execution_count": 24,
     "metadata": {},
     "output_type": "execute_result"
    },
    {
     "data": {
      "text/plain": "<Figure size 640x480 with 1 Axes>",
      "image/png": "[encoded data removed]"
     },
     "metadata": {},
     "output_type": "display_data"
    }
   ],
   "source": [
    "# 训练一个逻辑回归模型\n",
    "model = LogisticRegression()\n",
    "model.fit(x, y)\n",
    "# 预测\n",
    "x_test = np.linspace(-5, 10, 300)\n",
    "x_test = x_test[:, np.newaxis]\n",
    "prob = model.predict(x_test).ravel()\n",
    "plt.plot(x_test, prob, color='red', linewidth=3)\n",
    "plt.scatter(x, y, color='black');\n",
    "plt.axhline(0.5, color='0.5');\n",
    "plt.ylim(-0.25, 1.25);\n",
    "plt.yticks([0, 0.5, 1]);\n",
    "plt.legend(('Logistic Regression Model'), loc='lower right')"
   ],
   "metadata": {
    "collapsed": false,
    "ExecuteTime": {
     "end_time": "2024-04-18T14:29:39.151837600Z",
     "start_time": "2024-04-18T14:29:39.007347100Z"
    }
   },
   "id": "e1a748618c27442b"
  },
  {
   "cell_type": "code",
   "execution_count": 26,
   "outputs": [
    {
     "data": {
      "text/plain": "<matplotlib.legend.Legend at 0x2a0cac4dfc0>"
     },
     "execution_count": 26,
     "metadata": {},
     "output_type": "execute_result"
    },
    {
     "data": {
      "text/plain": "<Figure size 640x480 with 1 Axes>",
      "image/png": "[encoded data removed]"
     },
     "metadata": {},
     "output_type": "display_data"
    }
   ],
   "source": [
    "# 用sklearn 实现逻辑回归，合成数据集测试\n",
    "from sklearn.linear_model import LogisticRegression\n",
    "# C 表示正则化系数￿ 的倒数， solver 表示优化算法选择参数\n",
    "skl_model = LogisticRegression()\n",
    "skl_model.fit(x, y)\n",
    "# 预测\n",
    "x_test = np.linspace(-5, 10, 300)\n",
    "x_test = x_test[:, np.newaxis]\n",
    "prob = skl_model.predict(x_test).ravel()\n",
    "plt.plot(x_test, prob, color='red', linewidth=3)\n",
    "plt.scatter(x, y, color='black');\n",
    "plt.axhline(0.5, color='0.5');\n",
    "plt.ylim(-0.25, 1.25);\n",
    "plt.yticks([0, 0.5, 1]);\n",
    "plt.legend(('Logistic Regression Model'), loc='lower right')"
   ],
   "metadata": {
    "collapsed": false,
    "ExecuteTime": {
     "end_time": "2024-04-18T14:30:33.397542100Z",
     "start_time": "2024-04-18T14:30:33.264657300Z"
    }
   },
   "id": "6c4f0a89ce822c4f"
  },
  {
   "cell_type": "code",
   "execution_count": 30,
   "outputs": [
    {
     "name": "stdout",
     "output_type": "stream",
     "text": [
      "[5.4 3.4 1.5 0.4] 0.0\n"
     ]
    }
   ],
   "source": [
    "# 用自定义逻辑回归，iris 数据集测试\n",
    "def create_data():\n",
    "    iris = load_iris()\n",
    "    df = pd.DataFrame(iris.data, columns=iris.feature_names)\n",
    "    df['label'] = iris.target\n",
    "    df.columns = ['sepal length', 'sepal width', 'petal length', 'petal width', 'label']\n",
    "    data = np.array(df.iloc[:100, :])\n",
    "    return data[:,:-1], data[:,-1]\n",
    "\n",
    "X, y = create_data()\n",
    "X_train, X_test, y_train, y_test = train_test_split(X, y, test_size=0.3)\n",
    "print(X_train[0], y_train[0])"
   ],
   "metadata": {
    "collapsed": false,
    "ExecuteTime": {
     "end_time": "2024-04-18T14:30:55.162155600Z",
     "start_time": "2024-04-18T14:30:55.128105600Z"
    }
   },
   "id": "6e9518297acb9d2e"
  },
  {
   "cell_type": "code",
   "execution_count": 32,
   "outputs": [
    {
     "name": "stdout",
     "output_type": "stream",
     "text": [
      "1.0\n",
      "1.0\n"
     ]
    }
   ],
   "source": [
    "model = LogisticRegression()\n",
    "model.fit(X_train, y_train)\n",
    "# 测试数据\n",
    "print(model.score(X_test, y_test))\n",
    "\n",
    "# 用 sklearn 实现逻辑回归，iris 数据集测试\n",
    "# 从sklearn 包中调用LogisticRegression 测试\n",
    "from sklearn.linear_model import LogisticRegression\n",
    "skl_model = LogisticRegression()\n",
    "skl_model.fit(X_train, y_train)\n",
    "# 测试数据\n",
    "print(skl_model.score(X_test, y_test))"
   ],
   "metadata": {
    "collapsed": false,
    "ExecuteTime": {
     "end_time": "2024-04-18T14:42:38.503240600Z",
     "start_time": "2024-04-18T14:42:38.489217400Z"
    }
   },
   "id": "bc8ed2d5de434654"
  },
  {
   "cell_type": "code",
   "execution_count": null,
   "outputs": [],
   "source": [
    "# 4.8.2 支持向量机 \n",
    "# SVM 的思想是找到一个分割线(或分割平面)，把两个类别的点分得越开越好。\n",
    "\n",
    "# 核技巧\n",
    "#对于非线性的情况，SVM 的处理方法是选择⼀个核函数k(·; ·)，通过将数据映射到高维空间，来解决在原始空间中线性不可分的问题。其思想是通过核函数将输入空间映射到高维特征空间，最终在高维特征空间中构造出最优分离超平面，从而把平面上本身不好分的非线性数据分开。\n",
    "\n"
   ],
   "metadata": {
    "collapsed": false
   },
   "id": "71c59aedc6b86912"
  }
 ],
 "metadata": {
  "kernelspec": {
   "display_name": "Python 3",
   "language": "python",
   "name": "python3"
  },
  "language_info": {
   "codemirror_mode": {
    "name": "ipython",
    "version": 2
   },
   "file_extension": ".py",
   "mimetype": "text/x-python",
   "name": "python",
   "nbconvert_exporter": "python",
   "pygments_lexer": "ipython2",
   "version": "2.7.6"
  }
 },
 "nbformat": 4,
 "nbformat_minor": 5
}
